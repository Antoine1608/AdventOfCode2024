{
 "cells": [
  {
   "cell_type": "code",
   "execution_count": 1,
   "id": "51367733-0f2e-48c5-918e-ba29fc82b32f",
   "metadata": {},
   "outputs": [],
   "source": [
    "import pandas as pd\n",
    "import numpy as np"
   ]
  },
  {
   "cell_type": "code",
   "execution_count": 2,
   "id": "151233d0-936a-4367-a2b2-b4e0976652ad",
   "metadata": {},
   "outputs": [],
   "source": [
    "with open(\"Input.txt\") as file:\n",
    "    input = pd. DataFrame(list(x) for x in file.read().split('\\n'))"
   ]
  },
  {
   "cell_type": "code",
   "execution_count": 3,
   "id": "00e71caf-b905-46e2-bf49-c97170021a3d",
   "metadata": {},
   "outputs": [],
   "source": [
    "S = (np.where(input == 'S')[0][0], np.where(input == 'S')[1][0])\n",
    "E = (np.where(input == 'E')[0][0], np.where(input == 'E')[1][0])"
   ]
  },
  {
   "cell_type": "code",
   "execution_count": 4,
   "id": "979c45a8-03de-42c6-9d3b-dd53bea9e55b",
   "metadata": {},
   "outputs": [],
   "source": [
    "# Le trajet\n",
    "c = S\n",
    "t = [S]\n",
    "\n",
    "while c != E:\n",
    "    for n in [(c[0]+1, c[1]),\n",
    "              (c[0]-1, c[1]),\n",
    "              (c[0], c[1]+1),\n",
    "              (c[0], c[1]-1)]:\n",
    "        if n not in t and input.iloc[n[0], n[1]] != '#':\n",
    "            t.append((n[0], n[1]))\n",
    "            c = n          "
   ]
  },
  {
   "cell_type": "code",
   "execution_count": 5,
   "id": "9c760391-334e-4db7-98b5-432d45b900b5",
   "metadata": {},
   "outputs": [
    {
     "data": {
      "text/plain": [
       "0"
      ]
     },
     "execution_count": 5,
     "metadata": {},
     "output_type": "execute_result"
    }
   ],
   "source": [
    "# scan autour de la position p les cheats et renvoie le nombre de cheats supérieur à 100.\n",
    "def scan(p):\n",
    "    cheat = 0\n",
    "    for m in [(p[0]+1, p[1]),\n",
    "              (p[0]-1, p[1]),\n",
    "              (p[0], p[1]+1),\n",
    "              (p[0], p[1]-1)]: \n",
    "        if any(0 > x or x > len(input) - 1 for x in m):\n",
    "            continue\n",
    "        if input.loc[m[0], m[1]] == '#':\n",
    "            n = (2 * m[0] - p[0], 2 * m[1] - p[1])\n",
    "            if any(0 > x  or x > len(input) - 1 for x in n):\n",
    "                continue\n",
    "            if input.loc[n[0], n[1]] in ['.', 'E'] :\n",
    "                if t.index(n) - t.index(p) > 101:\n",
    "                    cheat +=1\n",
    "    return cheat    \n",
    "\n",
    "# exemple avec le sample et un seuil de 20 le (7,8) sauve 38ps ou avec (7,7) on sauve 40 ou 64ps\n",
    "scan((7,7))"
   ]
  },
  {
   "cell_type": "code",
   "execution_count": 6,
   "id": "82fda4d3-93f0-46b1-82b6-dd04679bb2e2",
   "metadata": {},
   "outputs": [
    {
     "data": {
      "text/plain": [
       "1438"
      ]
     },
     "execution_count": 6,
     "metadata": {},
     "output_type": "execute_result"
    }
   ],
   "source": [
    "nb = 0\n",
    "iterator = iter(t)\n",
    "c = next(iterator)\n",
    "\n",
    "while c != E:\n",
    "    nb += scan(c)\n",
    "    c = next(iterator)\n",
    "nb\n",
    "# la réponse est 1438"
   ]
  }
 ],
 "metadata": {
  "kernelspec": {
   "display_name": "Python 3 (ipykernel)",
   "language": "python",
   "name": "python3"
  },
  "language_info": {
   "codemirror_mode": {
    "name": "ipython",
    "version": 3
   },
   "file_extension": ".py",
   "mimetype": "text/x-python",
   "name": "python",
   "nbconvert_exporter": "python",
   "pygments_lexer": "ipython3",
   "version": "3.9.13"
  }
 },
 "nbformat": 4,
 "nbformat_minor": 5
}
