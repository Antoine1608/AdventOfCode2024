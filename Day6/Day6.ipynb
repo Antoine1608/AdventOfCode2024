{
 "cells": [
  {
   "cell_type": "code",
   "execution_count": 1,
   "id": "dfd438cf-4a3f-4a72-9532-0459a4246b92",
   "metadata": {},
   "outputs": [],
   "source": [
    "import numpy as np\n",
    "import itertools\n",
    "from tqdm import tqdm\n",
    "import copy"
   ]
  },
  {
   "cell_type": "markdown",
   "id": "d05cbdb1-f064-4128-a990-7c5a387108b8",
   "metadata": {},
   "source": [
    "# Part 1"
   ]
  },
  {
   "cell_type": "code",
   "execution_count": 2,
   "id": "3033bfb3-b0c4-49f7-b0fd-14c1a4f305bf",
   "metadata": {},
   "outputs": [],
   "source": [
    "# get input\n",
    "input = open(\"Input.txt\").read().strip().split('\\n')\n",
    "input = [list(row) for row in input]"
   ]
  },
  {
   "cell_type": "code",
   "execution_count": 3,
   "id": "fd95c473-6065-4a79-8041-9ec480757b91",
   "metadata": {},
   "outputs": [],
   "source": [
    "input_ = copy.deepcopy(input) # for part 2"
   ]
  },
  {
   "cell_type": "code",
   "execution_count": 4,
   "id": "2cdb645b-aef6-4b6d-9cad-96ccfd075cf8",
   "metadata": {},
   "outputs": [],
   "source": [
    "# define moving rule\n",
    "up = (-1,0)\n",
    "right = (0,1)\n",
    "down = (1,0)\n",
    "left = (0, -1)\n",
    "icode = {'^':(-1,0), '>':(0,1), 'v': (1,0), '<': (0, -1)}"
   ]
  },
  {
   "cell_type": "code",
   "execution_count": 5,
   "id": "108939d3-e6cc-413d-85c4-d1d27da75f02",
   "metadata": {},
   "outputs": [
    {
     "data": {
      "text/plain": [
       "(72, 57)"
      ]
     },
     "execution_count": 5,
     "metadata": {},
     "output_type": "execute_result"
    }
   ],
   "source": [
    "p = next(((x, y) for x in range(len(input)) for y in range(len(input[0])) if input[x][y] == '^'), None)\n",
    "p"
   ]
  },
  {
   "cell_type": "code",
   "execution_count": 6,
   "id": "d37c2234-e81e-4d44-a7e6-9e1d7bd3f68c",
   "metadata": {},
   "outputs": [
    {
     "name": "stdout",
     "output_type": "stream",
     "text": [
      "CPU times: total: 15.6 ms\n",
      "Wall time: 12 ms\n"
     ]
    }
   ],
   "source": [
    "%%time\n",
    "id = itertools.cycle('^>v<')\n",
    "d = next(id)\n",
    "while True:\n",
    "    m = icode[d]\n",
    "    dest = (p[0] + m[0], p[1] + m[1])\n",
    "    if any([dest[0]<0, dest[1]<0]) or any([dest[0]>len(input)-1, dest[1]>len(input[0])-1]):\n",
    "        break\n",
    "    elif input[dest[0]][dest[1]] == '#':\n",
    "        d = next(id)\n",
    "        continue\n",
    "    else:\n",
    "        input[p[0]][p[1]] = '0'\n",
    "        input[dest[0]][dest[1]] = d\n",
    "        p = dest"
   ]
  },
  {
   "cell_type": "code",
   "execution_count": 7,
   "id": "7d0ccf1c-3015-4b3b-a3d5-4702fa2a8426",
   "metadata": {},
   "outputs": [
    {
     "data": {
      "text/plain": [
       "4819"
      ]
     },
     "execution_count": 7,
     "metadata": {},
     "output_type": "execute_result"
    }
   ],
   "source": [
    "# Score 4819\n",
    "sum([input[i].count('0') for i in range(len(input))]) + 1"
   ]
  },
  {
   "cell_type": "markdown",
   "id": "f0d3f18c-0768-41c6-8b6d-de520f877117",
   "metadata": {},
   "source": [
    "# Part 2"
   ]
  },
  {
   "cell_type": "code",
   "execution_count": 8,
   "id": "50bf7fcb-c450-4e4e-b67d-043a96180ab5",
   "metadata": {},
   "outputs": [
    {
     "data": {
      "text/plain": [
       "(72, 57)"
      ]
     },
     "execution_count": 8,
     "metadata": {},
     "output_type": "execute_result"
    }
   ],
   "source": [
    "p = next(((x, y) for x in range(len(input)) for y in range(len(input[0])) if input_[x][y] == '^'), None)\n",
    "p"
   ]
  },
  {
   "cell_type": "code",
   "execution_count": 9,
   "id": "5e057396-b50e-4d03-af63-28aaee8cacba",
   "metadata": {},
   "outputs": [],
   "source": [
    "# récuperer la liste des coordonnées en enlevant le point initial\n",
    "path = ([(x, y) for (x,y) in itertools.product(range(len(input)), range(len(input[0]))) \n",
    "         if input[x][y]!='.' and input[x][y]!='#'])\n",
    "path.remove(p)"
   ]
  },
  {
   "cell_type": "code",
   "execution_count": 10,
   "id": "8f4b5f22-8013-4ff5-8282-5b631b75c5d8",
   "metadata": {},
   "outputs": [
    {
     "name": "stderr",
     "output_type": "stream",
     "text": [
      "100%|██████████████████████████████████████████████████████████████████████████████| 4818/4818 [01:59<00:00, 40.33it/s]"
     ]
    },
    {
     "name": "stdout",
     "output_type": "stream",
     "text": [
      "CPU times: total: 1min 57s\n",
      "Wall time: 1min 59s\n"
     ]
    },
    {
     "name": "stderr",
     "output_type": "stream",
     "text": [
      "\n"
     ]
    }
   ],
   "source": [
    "%%time\n",
    "ct = 0\n",
    "for point in tqdm(path):\n",
    "    input = copy.deepcopy(input_)\n",
    "    p = next(((x,y) for x in range(len(input)) for y in range(len(input)) if input_[x][y]=='^'),None)\n",
    "    s = 0\n",
    "    input[point[0]][point[1]] = 'X'\n",
    "    id = itertools.cycle('^>v<')\n",
    "    d = next(id)\n",
    "    while s < len(input)**2 :\n",
    "        m = icode[d]\n",
    "        dest = (p[0] + m[0], p[1] + m[1])\n",
    "        if dest[0] < 0 or dest[1] < 0 or dest[0] > len(input) - 1 or dest[1] > len(input) - 1:\n",
    "            ct += 1\n",
    "            break\n",
    "        elif input[dest[0]][dest[1]] in ['#','X']:\n",
    "            d = next(id)\n",
    "            continue\n",
    "        else:\n",
    "            input[p[0]][p[1]] = '0'\n",
    "            input[dest[0]][dest[1]] = d\n",
    "            p = dest\n",
    "            #print(input)\n",
    "            #time.sleep(0.1)\n",
    "            #clear_output(wait=True)\n",
    "            s += 1"
   ]
  },
  {
   "cell_type": "code",
   "execution_count": 11,
   "id": "e871789a-5c0f-48d6-a46b-2172fe9054a1",
   "metadata": {},
   "outputs": [
    {
     "data": {
      "text/plain": [
       "1796"
      ]
     },
     "execution_count": 11,
     "metadata": {},
     "output_type": "execute_result"
    }
   ],
   "source": [
    "# Score 1796\n",
    "len(path) - ct"
   ]
  }
 ],
 "metadata": {
  "kernelspec": {
   "display_name": "Python 3 (ipykernel)",
   "language": "python",
   "name": "python3"
  },
  "language_info": {
   "codemirror_mode": {
    "name": "ipython",
    "version": 3
   },
   "file_extension": ".py",
   "mimetype": "text/x-python",
   "name": "python",
   "nbconvert_exporter": "python",
   "pygments_lexer": "ipython3",
   "version": "3.9.13"
  }
 },
 "nbformat": 4,
 "nbformat_minor": 5
}
