{
 "cells": [
  {
   "cell_type": "raw",
   "id": "9f656dab-5fe4-403e-aa55-eda964691f1b",
   "metadata": {},
   "source": [
    "récupérer les keypads et l'input\n",
    "faire une fonction qui transforme le code num and liste de tuples pour le code sur numkeypad en commençant toujours par le A nomcode\n",
    "faire une fonction qui transforme le code dir and liste de tuples pour le code sur dirkeypad en commençant toujours par le A dircode\n",
    "faire une fonction qui pour un code num trouve le chemin le plus court sur numkeypad en dédoublant les nodes sauf le A du début numpath \n",
    "faire une fonction qui pour un code key trouve le chemin le plus court sur dirkeypad en dédoublant les nodes sauf le A du début dirpath\n",
    "\n",
    "faire le graphe du nkp et celui du dkp {(0,0) : {(1,2): 1, ...\n",
    "\n",
    "pour chaque code ('092A')\n",
    "    appliquer la fonction numcode au code [(0,0), (2,4), (3,4),...)\n",
    "    faire le chemin num des tuples le plus court [(0,0), (0,1), (1,1), (1,2), (1,2),(2,2) ...] numpath\n",
    "    \n",
    "    itérer 3 fois\n",
    "        code le chemin num des tuples le plus court en code dir pour le keypad ['>','v','>','A', 'v',...]\n",
    "        faire la liste key des tuples pour le code dir en ajoutant le A key au début [(0,0),(0,1),(1,0),...) dircode\n",
    "        faire le chemin key des tuples le plus court en dédoublant les noeuds sauf le A num du début [(0,0), (0,1), (0,1), (0,0), (1,0) ... =>          bien vérifier qu'on ne triple pas le (0,1 du début) dirpath\n",
    "        enregistrer comme nouveau chemin d'entrée et boucler\n",
    "    \n",
    "    ajouter au score le produit de la longueur du chemin le plus court par la partie numérique du code\n",
    "\n",
    "afficher le code   "
   ]
  },
  {
   "cell_type": "code",
   "execution_count": 1,
   "id": "e3a07099-c627-48a9-a964-77957f3717be",
   "metadata": {},
   "outputs": [],
   "source": [
    "import pandas as pd\n",
    "import numpy as np\n",
    "from dijkstar import Graph, find_path\n",
    "from itertools import chain\n",
    "from tqdm import tqdm\n",
    "import re"
   ]
  },
  {
   "cell_type": "code",
   "execution_count": 2,
   "id": "d5b9d599-4881-4732-9998-3b33679561e2",
   "metadata": {},
   "outputs": [
    {
     "data": {
      "text/html": [
       "<div>\n",
       "<style scoped>\n",
       "    .dataframe tbody tr th:only-of-type {\n",
       "        vertical-align: middle;\n",
       "    }\n",
       "\n",
       "    .dataframe tbody tr th {\n",
       "        vertical-align: top;\n",
       "    }\n",
       "\n",
       "    .dataframe thead th {\n",
       "        text-align: right;\n",
       "    }\n",
       "</style>\n",
       "<table border=\"1\" class=\"dataframe\">\n",
       "  <thead>\n",
       "    <tr style=\"text-align: right;\">\n",
       "      <th></th>\n",
       "      <th>0</th>\n",
       "      <th>1</th>\n",
       "      <th>2</th>\n",
       "    </tr>\n",
       "  </thead>\n",
       "  <tbody>\n",
       "    <tr>\n",
       "      <th>0</th>\n",
       "      <td>7</td>\n",
       "      <td>8</td>\n",
       "      <td>9</td>\n",
       "    </tr>\n",
       "    <tr>\n",
       "      <th>1</th>\n",
       "      <td>4</td>\n",
       "      <td>5</td>\n",
       "      <td>6</td>\n",
       "    </tr>\n",
       "    <tr>\n",
       "      <th>2</th>\n",
       "      <td>1</td>\n",
       "      <td>2</td>\n",
       "      <td>3</td>\n",
       "    </tr>\n",
       "    <tr>\n",
       "      <th>3</th>\n",
       "      <td>NaN</td>\n",
       "      <td>0</td>\n",
       "      <td>A</td>\n",
       "    </tr>\n",
       "  </tbody>\n",
       "</table>\n",
       "</div>"
      ],
      "text/plain": [
       "     0  1  2\n",
       "0    7  8  9\n",
       "1    4  5  6\n",
       "2    1  2  3\n",
       "3  NaN  0  A"
      ]
     },
     "execution_count": 2,
     "metadata": {},
     "output_type": "execute_result"
    }
   ],
   "source": [
    "with open('numkeypad.txt') as file:\n",
    "    nkp = file.read().split('\\n')\n",
    "    nkp = pd.DataFrame([x for x in [[x for x in list(line) if x not in ['+', '-', '|', ' ']] for line in nkp] if x != []])\n",
    "    nkp.iloc[3,:] = [np.nan,'0', 'A']\n",
    "    file.close()    \n",
    "nkp                             "
   ]
  },
  {
   "cell_type": "code",
   "execution_count": 3,
   "id": "602dd54e-7eef-4d19-b093-42f7cfa5b3fa",
   "metadata": {},
   "outputs": [
    {
     "data": {
      "text/html": [
       "<div>\n",
       "<style scoped>\n",
       "    .dataframe tbody tr th:only-of-type {\n",
       "        vertical-align: middle;\n",
       "    }\n",
       "\n",
       "    .dataframe tbody tr th {\n",
       "        vertical-align: top;\n",
       "    }\n",
       "\n",
       "    .dataframe thead th {\n",
       "        text-align: right;\n",
       "    }\n",
       "</style>\n",
       "<table border=\"1\" class=\"dataframe\">\n",
       "  <thead>\n",
       "    <tr style=\"text-align: right;\">\n",
       "      <th></th>\n",
       "      <th>0</th>\n",
       "      <th>1</th>\n",
       "      <th>2</th>\n",
       "    </tr>\n",
       "  </thead>\n",
       "  <tbody>\n",
       "    <tr>\n",
       "      <th>0</th>\n",
       "      <td>NaN</td>\n",
       "      <td>^</td>\n",
       "      <td>A</td>\n",
       "    </tr>\n",
       "    <tr>\n",
       "      <th>1</th>\n",
       "      <td>&lt;</td>\n",
       "      <td>v</td>\n",
       "      <td>&gt;</td>\n",
       "    </tr>\n",
       "  </tbody>\n",
       "</table>\n",
       "</div>"
      ],
      "text/plain": [
       "     0  1  2\n",
       "0  NaN  ^  A\n",
       "1    <  v  >"
      ]
     },
     "execution_count": 3,
     "metadata": {},
     "output_type": "execute_result"
    }
   ],
   "source": [
    "with open('dirkeypad.txt') as file:\n",
    "    dkp = file.read().split('\\n')\n",
    "    dkp = pd.DataFrame([x for x in [[x for x in list(line) if x not in ['+', '-', '|', ' ']] for line in dkp] if x != []])\n",
    "    dkp.iloc[0,:] = [np.nan,'^', 'A']\n",
    "    file.close()    \n",
    "dkp    "
   ]
  },
  {
   "cell_type": "code",
   "execution_count": 4,
   "id": "9b2433c0-1d61-440d-ad9a-c04c2e8497fe",
   "metadata": {},
   "outputs": [
    {
     "data": {
      "text/plain": [
       "['029A', '980A', '179A', '456A', '379A']"
      ]
     },
     "execution_count": 4,
     "metadata": {},
     "output_type": "execute_result"
    }
   ],
   "source": [
    "with open('Sample.txt') as file:\n",
    "    input = file.read().split('\\n')\n",
    "    file.close()\n",
    "input"
   ]
  },
  {
   "cell_type": "code",
   "execution_count": 5,
   "id": "bd49a96f-2311-4024-a3ac-0058f4629b9a",
   "metadata": {},
   "outputs": [
    {
     "name": "stderr",
     "output_type": "stream",
     "text": [
      "100%|██████████████████████████████████████████████████████████████████████████████████████████| 11/11 [00:00<?, ?it/s]\n"
     ]
    },
    {
     "data": {
      "text/plain": [
       "{(0, 0): {(0, 1): 1, (1, 0): 1}, (1, 0): {(1, 1): 1, (2, 0): 1, (0, 0): 1}, (2, 0): {(2, 1): 1, (1, 0): 1}, (0, 1): {(0, 2): 1, (0, 0): 1, (1, 1): 1}, (1, 1): {(1, 2): 1, (1, 0): 1, (2, 1): 1, (0, 1): 1}, (2, 1): {(2, 2): 1, (2, 0): 1, (3, 1): 1, (1, 1): 1}, (3, 1): {(3, 2): 1, (2, 1): 1}, (0, 2): {(0, 1): 1, (1, 2): 1}, (1, 2): {(1, 1): 1, (2, 2): 1, (0, 2): 1}, (2, 2): {(2, 1): 1, (3, 2): 1, (1, 2): 1}, (3, 2): {(3, 1): 1, (2, 2): 1}}"
      ]
     },
     "execution_count": 5,
     "metadata": {},
     "output_type": "execute_result"
    }
   ],
   "source": [
    "pl = list(chain.from_iterable([[(x, y) for x in range(len(nkp))] for y in range(len(nkp.columns))]))\n",
    "pl = [x for x in pl if nkp.iloc[x[0], x[1]] == nkp.iloc[x[0], x[1]]]\n",
    "graph_nkp = Graph()\n",
    "\n",
    "for p in tqdm(pl):\n",
    "    iterator = iter([0,1,0,-1,1,0,-1,0])\n",
    "    i = 0\n",
    "    while i < 4:\n",
    "        i += 1\n",
    "        n = (p[0]+next(iterator), p[1] + next(iterator))\n",
    "        if n in pl:    \n",
    "            graph_nkp.add_edge(p, n, 1)\n",
    "graph_nkp"
   ]
  },
  {
   "cell_type": "code",
   "execution_count": 6,
   "id": "c9d890c8-d5e6-4bf7-8933-e79cdc1533ee",
   "metadata": {},
   "outputs": [
    {
     "name": "stderr",
     "output_type": "stream",
     "text": [
      "100%|████████████████████████████████████████████████████████████████████████████████████████████| 5/5 [00:00<?, ?it/s]\n"
     ]
    },
    {
     "data": {
      "text/plain": [
       "{(1, 0): {(1, 1): 1}, (0, 1): {(0, 2): 1, (1, 1): 1}, (1, 1): {(1, 2): 1, (1, 0): 1, (0, 1): 1}, (0, 2): {(0, 1): 1, (1, 2): 1}, (1, 2): {(1, 1): 1, (0, 2): 1}}"
      ]
     },
     "execution_count": 6,
     "metadata": {},
     "output_type": "execute_result"
    }
   ],
   "source": [
    "pl = list(chain.from_iterable([[(x, y) for x in range(len(dkp))] for y in range(len(dkp.columns))]))\n",
    "pl = [x for x in pl if dkp.iloc[x[0], x[1]] == dkp.iloc[x[0], x[1]]]\n",
    "graph_dkp = Graph()\n",
    "\n",
    "for p in tqdm(pl):\n",
    "    iterator = iter([0,1,0,-1,1,0,-1,0])\n",
    "    i = 0\n",
    "    while i < 4:\n",
    "        i += 1\n",
    "        n = (p[0]+next(iterator), p[1] + next(iterator))\n",
    "        if n in pl:    \n",
    "            graph_dkp.add_edge(p, n, 1)\n",
    "graph_dkp"
   ]
  },
  {
   "cell_type": "code",
   "execution_count": 13,
   "id": "429ce42a-939d-4bf7-a291-66fded93a58f",
   "metadata": {},
   "outputs": [
    {
     "data": {
      "text/plain": [
       "[(3, 2), (3, 1), (2, 1), (0, 2), (0, 2), (3, 2)]"
      ]
     },
     "execution_count": 13,
     "metadata": {},
     "output_type": "execute_result"
    }
   ],
   "source": [
    "def numcode(code_ : 'str') -> 'list':\n",
    "    l_ = [(3, 2)]\n",
    "    for x in code_:\n",
    "        l_.append((int(np.where(nkp == x)[0]),int(np.where(nkp == x)[1])))\n",
    "    return l_\n",
    "\n",
    "# exemple :\n",
    "t = '0299A'\n",
    "numcode(t)"
   ]
  },
  {
   "cell_type": "code",
   "execution_count": 14,
   "id": "73b67e24-908c-4320-adc1-43a3954f5dba",
   "metadata": {},
   "outputs": [
    {
     "data": {
      "text/plain": [
       "[(0, 2), (0, 2), (1, 2), (0, 1), (0, 1), (0, 2)]"
      ]
     },
     "execution_count": 14,
     "metadata": {},
     "output_type": "execute_result"
    }
   ],
   "source": [
    "def dircode(code_: 'list') -> 'list':\n",
    "    l = [(0, 2)]\n",
    "    for x in code_:\n",
    "        l.append((int(np.where(dkp == x)[0]),int(np.where(dkp == x)[1])))\n",
    "    return l\n",
    "\n",
    "# exemple :\n",
    "t = list('A>^^A')\n",
    "dircode(t)"
   ]
  },
  {
   "cell_type": "code",
   "execution_count": 9,
   "id": "74ff26d9-7282-4515-8201-cfa46999288a",
   "metadata": {},
   "outputs": [
    {
     "data": {
      "text/plain": [
       "[(3, 2),\n",
       " (3, 1),\n",
       " (3, 1),\n",
       " (2, 1),\n",
       " (2, 1),\n",
       " (2, 2),\n",
       " (1, 2),\n",
       " (0, 2),\n",
       " (0, 2),\n",
       " (0, 2),\n",
       " (0, 2),\n",
       " (1, 2),\n",
       " (2, 2),\n",
       " (3, 2),\n",
       " (3, 2)]"
      ]
     },
     "execution_count": 9,
     "metadata": {},
     "output_type": "execute_result"
    }
   ],
   "source": [
    "def numpath(numcode: 'list') -> 'list':\n",
    "    \"\"\"\n",
    "    dédouble les nodes\n",
    "    \"\"\"\n",
    "    path = []\n",
    "    #path.append([(3, 2)])\n",
    "    i = 0\n",
    "    iterator = iter(numcode)\n",
    "    n1 = next(iterator)\n",
    "    while i < len(numcode) - 1:\n",
    "        n2 = next(iterator)\n",
    "        p = find_path(graph_nkp, n1, n2).nodes\n",
    "        if len(p) > 1:        \n",
    "            path.append(find_path(graph_nkp, n1, n2).nodes)\n",
    "        elif len(p) == 1:\n",
    "            path.append(find_path(graph_nkp, n1, n2).nodes)\n",
    "            path.append(find_path(graph_nkp, n1, n2).nodes)\n",
    "        n1 = n2\n",
    "        i += 1\n",
    "    e = path[-1][-1]\n",
    "    return list(chain.from_iterable(path)) + [e]\n",
    "# exemple\n",
    "#t = '0299A'\n",
    "#numcode(t) = [(3, 2), (3, 1), (2, 1), (0, 2), (0, 2), (3, 2)]\n",
    "numcode = [(3, 2), (3, 1), (2, 1), (0, 2), (0, 2), (3, 2)]\n",
    "numpath(numcode)"
   ]
  },
  {
   "cell_type": "code",
   "execution_count": 10,
   "id": "542e02f2-706b-4a41-a7ef-0f985ff31e70",
   "metadata": {},
   "outputs": [
    {
     "data": {
      "text/plain": [
       "[(0, 2),\n",
       " (0, 2),\n",
       " (0, 2),\n",
       " (1, 2),\n",
       " (1, 2),\n",
       " (1, 1),\n",
       " (0, 1),\n",
       " (0, 1),\n",
       " (0, 1),\n",
       " (0, 1),\n",
       " (0, 2),\n",
       " (0, 2)]"
      ]
     },
     "execution_count": 10,
     "metadata": {},
     "output_type": "execute_result"
    }
   ],
   "source": [
    "def dirpath(dircode: 'list') -> 'list':\n",
    "    \"\"\"\n",
    "    dédouble les nodes\n",
    "    \"\"\"\n",
    "    path = []\n",
    "    i = 0\n",
    "    iterator = iter(dircode)\n",
    "    n1 = next(iterator)\n",
    "    while i < len(dircode) - 1:\n",
    "        n2 = next(iterator)\n",
    "        p = find_path(graph_dkp, n1, n2).nodes\n",
    "        if len(p) > 1:        \n",
    "            path.append(find_path(graph_dkp, n1, n2).nodes)\n",
    "        elif len(p) == 1:\n",
    "            path.append(find_path(graph_dkp, n1, n2).nodes)\n",
    "            path.append(find_path(graph_dkp, n1, n2).nodes)\n",
    "        n1 = n2\n",
    "        i += 1\n",
    "    e = path[-1][-1]\n",
    "    return list(chain.from_iterable(path)) + [e]\n",
    "    \n",
    "# exemple\n",
    "t = list('A>^^A')\n",
    "dircode = [(0, 2), (0, 2), (1, 2), (0, 1), (0, 1), (0, 2)]\n",
    "dirpath(dircode)"
   ]
  },
  {
   "cell_type": "code",
   "execution_count": 11,
   "id": "4b8472f5-6856-477d-b063-5434acb7eec2",
   "metadata": {},
   "outputs": [
    {
     "data": {
      "text/plain": [
       "(2, 1)"
      ]
     },
     "execution_count": 11,
     "metadata": {},
     "output_type": "execute_result"
    }
   ],
   "source": [
    "def sub_tup(a,b):\n",
    "    return (a[0] - b[0], a[1] - b[1])\n",
    "\n",
    "# exemple:\n",
    "a = (3,1)\n",
    "b = (1,0)\n",
    "sub_tup(a,b)"
   ]
  },
  {
   "cell_type": "code",
   "execution_count": 15,
   "id": "d704bd95-0d6d-48e2-9d88-18eed7373e07",
   "metadata": {},
   "outputs": [
    {
     "data": {
      "text/plain": [
       "['<', 'A', '^', 'A', '>', '^', '^', 'A', 'v', 'v', 'v', 'A']"
      ]
     },
     "execution_count": 15,
     "metadata": {},
     "output_type": "execute_result"
    }
   ],
   "source": [
    "def rec(p : 'list') -> 'list':\n",
    "        iterator = iter(p)\n",
    "        d = {(0,1) : '>', (1,0) : 'v', (-1,0) : '^', (0,-1) : '<', (0,0) : 'A'}\n",
    "        l = []\n",
    "        c = 0\n",
    "        next(iterator)\n",
    "        for i in p[0:-1]:\n",
    "            s = d[sub_tup(next(iterator),i)]\n",
    "            # si la différence suivante est égale mettre un 'X'\n",
    "            \n",
    "            if s == 'A' and  l[-1] == 'A' and c == 0:\n",
    "                c = 1\n",
    "                #print('c=1')\n",
    "                continue                \n",
    "            elif s == 'A' and  l[-1] == 'A' and c == 1:\n",
    "                l.append(s)\n",
    "                c = 0\n",
    "                continue\n",
    "            \n",
    "            l.append(s)\n",
    "        return l\n",
    "        \n",
    "# exemple\n",
    "p = numpath(numcode('029A'))\n",
    "rec(p)    "
   ]
  },
  {
   "cell_type": "code",
   "execution_count": 16,
   "id": "53931f25-6a3e-4d77-a70a-cb86f3d64e7b",
   "metadata": {},
   "outputs": [
    {
     "name": "stdout",
     "output_type": "stream",
     "text": [
      "range_01 :  ['^', '^', '<', '<', 'A', '>', '>', 'v', 'v']\n",
      "range_123 :  ['v', 'v', '<', '<', 'A', '>', '>', '^', '^']\n"
     ]
    }
   ],
   "source": [
    "liste = ['<', '^', '^','<','A', '^', 'A', 'v', '>',  'v', 'A', 'v', '>', 'v', 'A']\n",
    "# 0 to 1\n",
    "def range_01(liste_):\n",
    "    liste = liste_\n",
    "    for i in range(len(liste)):\n",
    "        for j in range(5):\n",
    "            if all([(x in ['<', '^','v']) for x in liste[i : i+j]]):\n",
    "                liste[i : i+j] = sorted(liste[i : i+j])[::-1]\n",
    "            elif all([(x in ['v', '>', '^']) for x in liste[i : i+j]]):\n",
    "                liste[i : i+j] = sorted(liste[i : i+j])\n",
    "    return liste\n",
    "\n",
    "#exemple\n",
    "liste = ['<', '^', '<', '^','A', 'v', '>', 'v', '>']\n",
    "print('range_01 : ', range_01(liste))\n",
    "\n",
    "def range_123(liste_):\n",
    "    liste = liste_\n",
    "    for i in range(len(liste_)):\n",
    "        for j in range(1, 6, 1):\n",
    "            if all([(x in ['<', 'v']) for x in liste [i : i+j]]):\n",
    "                liste[i : i+j] = sorted(liste[i : i+j])[::-1]\n",
    "                                \n",
    "            elif all([(x in ['^', '>']) for x in liste [i : i+j]]):\n",
    "                liste[i : i+j] = sorted(liste[i : i+j])\n",
    "    return liste\n",
    "        \n",
    "#exemple\n",
    "liste = ['<', 'v', '<', 'v','A', '^', '>', '^', '>']\n",
    "print('range_123 : ', range_123(liste))"
   ]
  },
  {
   "cell_type": "code",
   "execution_count": 17,
   "id": "897c25d0-355d-4a96-b0f2-29508d6baad3",
   "metadata": {},
   "outputs": [
    {
     "data": {
      "text/plain": [
       "'<vA<AA>>^AvAA<^A>A<v<A>>^AvA^A<vA>^A<v<A>^A>AAvA^A<v<A>A>^AAAvA<^A>A'"
      ]
     },
     "execution_count": 17,
     "metadata": {},
     "output_type": "execute_result"
    }
   ],
   "source": [
    "# code\n",
    "'029A'\n",
    "# first\n",
    "'<A^A>^^AvvvA' \n",
    "# second\n",
    "'v<<A>>^A<A>AvA<^AA>A<vAAA>^A'\n",
    "# third\n",
    "'<vA<AA>>^AvAA<^A>A<v<A>>^AvA^A<vA>^A<v<A>^A>AAvA^A<v<A>A>^AAAvA<^A>A'"
   ]
  },
  {
   "cell_type": "code",
   "execution_count": 18,
   "id": "24faf115-7fc1-4528-8c97-a45c762ca27d",
   "metadata": {},
   "outputs": [
    {
     "name": "stdout",
     "output_type": "stream",
     "text": [
      "code :  029A\n",
      "['<', 'A', '^', 'A', '>', '^', '^', 'A', 'v', 'v', 'v', 'A']\n",
      "first :  <A^A>^^AvvvA\n",
      "second :  v<<A>>^A<A>AvA<^AA>Av<AAA>^A\n",
      "third :  v<A<AA>>^AvAA<^A>Av<<A>>^AvA^Av<A>^Av<<A>^A>AAvA^Av<A<A>>^AAAvA<^A>A\n",
      "68 29\n",
      "code :  980A\n",
      "['^', '^', '^', 'A', '<', 'A', 'v', 'v', 'v', 'A', '>', 'A']\n",
      "first :  ^^^A<AvvvA>A\n",
      "second :  <AAA>Av<<A>>^Av<AAA>^AvA^A\n",
      "third :  v<<A>>^AAAvA^Av<A<AA>>^AvAA<^A>Av<A<A>>^AAAvA<^A>Av<A>^A<A>A\n",
      "60 980\n",
      "code :  179A\n",
      "['^', '<', '<', 'A', '^', '^', 'A', '>', '>', 'A', 'v', 'v', 'v', 'A']\n",
      "first :  ^<<A^^A>>AvvvA\n",
      "second :  <Av<AA>>^A<AA>AvAA^Av<AAA>^A\n",
      "third :  v<<A>>^Av<A<A>>^AAvAA<^A>Av<<A>>^AAvA^Av<A>^AA<A>Av<A<A>>^AAAvA<^A>A\n",
      "68 179\n",
      "code :  456A\n",
      "['^', '^', '<', '<', 'A', '>', 'A', '>', 'A', 'v', 'v', 'A']\n",
      "first :  ^^<<A>A>AvvA\n",
      "second :  <AAv<AA>>^AvA^AvA^Av<AA>^A\n",
      "third :  v<<A>>^AAv<A<A>>^AAvAA<^A>Av<A>^A<A>Av<A>^A<A>Av<A<A>>^AAvA<^A>A\n",
      "64 456\n",
      "code :  379A\n",
      "['^', 'A', '^', '^', '<', '<', 'A', '>', '>', 'A', 'v', 'v', 'v', 'A']\n",
      "first :  ^A^^<<A>>AvvvA\n",
      "second :  <A>A<AAv<AA>>^AvAA^Av<AAA>^A\n",
      "third :  v<<A>>^AvA^Av<<A>>^AAv<A<A>>^AAvAA<^A>Av<A>^AA<A>Av<A<A>>^AAAvA<^A>A\n",
      "68 379\n"
     ]
    },
    {
     "data": {
      "text/plain": [
       "127900"
      ]
     },
     "execution_count": 18,
     "metadata": {},
     "output_type": "execute_result"
    }
   ],
   "source": [
    "s = 0\n",
    "for c in input:\n",
    "    print('code : ', c)\n",
    "    p = numpath(numcode(c))\n",
    "    i = rec(p)\n",
    "    i = range_01(i)\n",
    "    print(i)\n",
    "    print('first : ', ''.join(i))\n",
    "    i = dirpath(dircode(i))\n",
    "    i = rec(i)\n",
    "    i = range_123(i)\n",
    "    print('second : ', ''.join(i))\n",
    "    i = dirpath(dircode(i))\n",
    "    i = rec(i)\n",
    "    i = range_123(i)\n",
    "    print('third : ', ''.join(i))\n",
    "    s += len(i)*int(re.findall(r'\\d+', c)[0])\n",
    "    print(len(i), int(re.findall(r'\\d+', c)[0]))\n",
    "s"
   ]
  },
  {
   "cell_type": "code",
   "execution_count": null,
   "id": "899034df-3f2c-4b08-b0d4-5227fa9b60c3",
   "metadata": {},
   "outputs": [],
   "source": [
    "# quelquechose cloche avec le dernier c'est 64 et pas 68 normalement"
   ]
  },
  {
   "cell_type": "code",
   "execution_count": 19,
   "id": "bdab8b02-7b6a-4b36-85f0-27e6d3a1b23d",
   "metadata": {},
   "outputs": [
    {
     "name": "stdout",
     "output_type": "stream",
     "text": [
      "< < 1\n",
      "< ^ 3\n",
      "< > 3\n",
      "< v 2\n",
      "< A 4\n",
      "^ < 3\n",
      "^ ^ 1\n",
      "^ > 3\n",
      "^ v 2\n",
      "^ A 2\n",
      "> < 3\n",
      "> ^ 3\n",
      "> > 1\n",
      "> v 2\n",
      "> A 2\n",
      "v < 2\n",
      "v ^ 2\n",
      "v > 2\n",
      "v v 1\n",
      "v A 3\n",
      "A < 4\n",
      "A ^ 2\n",
      "A > 2\n",
      "A v 3\n",
      "A A 1\n",
      "29 68\n",
      "980 60\n",
      "179 68\n",
      "456 64\n",
      "379 64\n",
      "126384\n"
     ]
    }
   ],
   "source": [
    "from functools import cache\n",
    "\n",
    "inputval = \"\"\n",
    "\n",
    "posi = [\n",
    "    [\"7\", \"8\", \"9\"],\n",
    "    [\"4\", \"5\", \"6\"],\n",
    "    [\"1\", \"2\", \"3\"],\n",
    "    [None, \"0\", \"A\"],\n",
    "]\n",
    "\n",
    "arr_pads = [\n",
    "    [None, \"^\", \"A\"],\n",
    "    [\"<\", \"v\", \">\"]\n",
    "]\n",
    "\n",
    "def get_pos(arr, code):\n",
    "    for i, row in enumerate(arr):\n",
    "        if code in row:\n",
    "            return (i, row.index(code))\n",
    "\n",
    "@cache\n",
    "def shortest(start, end, layers):\n",
    "    if start == \"<\" and end == \">\":\n",
    "        pass\n",
    "    if isinstance(start, str):\n",
    "        start = get_pos(arr_pads, start)\n",
    "    if isinstance(end, str):\n",
    "        end = get_pos(arr_pads, end)\n",
    "\n",
    "    if layers == 0:\n",
    "        return 1\n",
    "    elif layers < 3:\n",
    "        vert = None\n",
    "        hori = None\n",
    "        if end[0] < start[0]:\n",
    "            vert = \"^\"\n",
    "        elif end[0] > start[0]:\n",
    "            vert = \"v\"\n",
    "        if end[1] < start[1]:\n",
    "            hori = \"<\"\n",
    "        elif end[1] > start[1]:\n",
    "            hori = \">\"\n",
    "        if not hori and not vert:\n",
    "            return shortest(\"A\", \"A\", layers - 1)\n",
    "        elif not hori:\n",
    "            return shortest(\"A\", vert, layers - 1) + (abs(end[0] - start[0]) - 1) * shortest(vert, vert, layers - 1) + shortest(vert, \"A\", layers - 1)\n",
    "        elif not vert:\n",
    "            return shortest(\"A\", hori, layers - 1) + (abs(end[1] - start[1]) - 1) * shortest(hori, hori, layers - 1) + shortest(hori, \"A\", layers - 1)\n",
    "        else:\n",
    "            if start[1] == 0:\n",
    "                return shortest(\"A\", hori, layers - 1) + \\\n",
    "                    (abs(end[1] - start[1]) - 1) * shortest(hori, hori, layers - 1) + \\\n",
    "                    shortest(hori, vert, layers - 1) + \\\n",
    "                    (abs(end[0] - start[0]) - 1) * shortest(vert, vert, layers - 1) + \\\n",
    "                    shortest(vert, \"A\", layers - 1)\n",
    "            elif end[1] == 0:\n",
    "                return shortest(\"A\", vert, layers - 1) + \\\n",
    "                    (abs(end[0] - start[0]) - 1) * shortest(vert, vert, layers - 1) + \\\n",
    "                    shortest(vert, hori, layers - 1) + \\\n",
    "                    (abs(end[1] - start[1]) - 1) * shortest(hori, hori, layers - 1) + \\\n",
    "                    shortest(hori, \"A\", layers - 1)\n",
    "            else:\n",
    "                return min(\n",
    "                    shortest(\"A\", hori, layers - 1) + \\\n",
    "                    (abs(end[1] - start[1]) - 1) * shortest(hori, hori, layers - 1) + \\\n",
    "                    shortest(hori, vert, layers - 1) + \\\n",
    "                    (abs(end[0] - start[0]) - 1) * shortest(vert, vert, layers - 1) + \\\n",
    "                    shortest(vert, \"A\", layers - 1),\n",
    "                    shortest(\"A\", vert, layers - 1) + \\\n",
    "                    (abs(end[0] - start[0]) - 1) * shortest(vert, vert, layers - 1) + \\\n",
    "                    shortest(vert, hori, layers - 1) + \\\n",
    "                    (abs(end[1] - start[1]) - 1) * shortest(hori, hori, layers - 1) + \\\n",
    "                    shortest(hori, \"A\", layers - 1)\n",
    "                )\n",
    "    else:\n",
    "        vert = None\n",
    "        hori = None\n",
    "        if end[0] < start[0]:\n",
    "            vert = \"^\"\n",
    "        elif end[0] > start[0]:\n",
    "            vert = \"v\"\n",
    "        if end[1] < start[1]:\n",
    "            hori = \"<\"\n",
    "        elif end[1] > start[1]:\n",
    "            hori = \">\"\n",
    "        if not hori and not vert:\n",
    "            return shortest(\"A\", \"A\", layers - 1)\n",
    "        elif not hori:\n",
    "            return shortest(\"A\", vert, layers - 1) + (abs(end[0] - start[0]) - 1) * shortest(vert, vert, layers - 1) + shortest(vert, \"A\", layers - 1)\n",
    "        elif not vert:\n",
    "            return shortest(\"A\", hori, layers - 1) + (abs(end[1] - start[1]) - 1) * shortest(hori, hori, layers - 1) + shortest(hori, \"A\", layers - 1)\n",
    "        else:\n",
    "            if start[1] == 0 and end[0] == 3:\n",
    "                return shortest(\"A\", hori, layers - 1) + \\\n",
    "                    (abs(end[1] - start[1]) - 1) * shortest(hori, hori, layers - 1) + \\\n",
    "                    shortest(hori, vert, layers - 1) + \\\n",
    "                    (abs(end[0] - start[0]) - 1) * shortest(vert, vert, layers - 1) + \\\n",
    "                    shortest(vert, \"A\", layers - 1)\n",
    "            elif end[1] == 0 and start[0] == 3:\n",
    "                return shortest(\"A\", vert, layers - 1) + \\\n",
    "                    (abs(end[0] - start[0]) - 1) * shortest(vert, vert, layers - 1) + \\\n",
    "                    shortest(vert, hori, layers - 1) + \\\n",
    "                    (abs(end[1] - start[1]) - 1) * shortest(hori, hori, layers - 1) + \\\n",
    "                    shortest(hori, \"A\", layers - 1)\n",
    "            else:\n",
    "                return min(\n",
    "                    shortest(\"A\", hori, layers - 1) + \\\n",
    "                    (abs(end[1] - start[1]) - 1) * shortest(hori, hori, layers - 1) + \\\n",
    "                    shortest(hori, vert, layers - 1) + \\\n",
    "                    (abs(end[0] - start[0]) - 1) * shortest(vert, vert, layers - 1) + \\\n",
    "                    shortest(vert, \"A\", layers - 1),\n",
    "                    shortest(\"A\", vert, layers - 1) + \\\n",
    "                    (abs(end[0] - start[0]) - 1) * shortest(vert, vert, layers - 1) + \\\n",
    "                    shortest(vert, hori, layers - 1) + \\\n",
    "                    (abs(end[1] - start[1]) - 1) * shortest(hori, hori, layers - 1) + \\\n",
    "                    shortest(hori, \"A\", layers - 1)\n",
    "                )\n",
    "\n",
    "for start in [\"<\", \"^\", \">\", \"v\", \"A\"]:\n",
    "    for end in [\"<\", \"^\", \">\", \"v\", \"A\"]:\n",
    "        print(start, end, shortest(start, end, 1))\n",
    "\n",
    "ut = input  # Replace input with predefined list\n",
    "\n",
    "score = 0\n",
    "for inputval in ut:\n",
    "    intval = int(inputval[:3])\n",
    "    total = 0\n",
    "    for startp, endp in zip(\"A\" + inputval[:3], inputval):\n",
    "        total += shortest(get_pos(posi, startp), get_pos(posi, endp), 3)\n",
    "    print(intval, total)\n",
    "    score += intval * total\n",
    "print(score)"
   ]
  },
  {
   "cell_type": "code",
   "execution_count": null,
   "id": "17a045c7-2e01-417a-bdee-1265469a2042",
   "metadata": {},
   "outputs": [],
   "source": []
  }
 ],
 "metadata": {
  "kernelspec": {
   "display_name": "Python 3 (ipykernel)",
   "language": "python",
   "name": "python3"
  },
  "language_info": {
   "codemirror_mode": {
    "name": "ipython",
    "version": 3
   },
   "file_extension": ".py",
   "mimetype": "text/x-python",
   "name": "python",
   "nbconvert_exporter": "python",
   "pygments_lexer": "ipython3",
   "version": "3.9.13"
  }
 },
 "nbformat": 4,
 "nbformat_minor": 5
}
