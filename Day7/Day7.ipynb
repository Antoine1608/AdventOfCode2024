{
 "cells": [
  {
   "cell_type": "raw",
   "id": "27bc39ab-f6ac-4abe-a9b2-40ff72db76b3",
   "metadata": {},
   "source": [
    "get input\n",
    "init a score\n",
    "for each line\n",
    "    extract the test_value\n",
    "    extract the equation\n",
    "    init result at 0\n",
    "    define every combination of + and * for this line\n",
    "    for every possible combination of + and * in the equation \n",
    "        until getting the result\n",
    "            add result to score\n",
    "            break\n",
    "        else\n",
    "            re-init result to 0\n",
    "            continue\n",
    "display score"
   ]
  },
  {
   "cell_type": "code",
   "execution_count": 1,
   "id": "188b9f8a-2858-40b0-bb1f-583b948d14e4",
   "metadata": {},
   "outputs": [],
   "source": [
    "from itertools import product"
   ]
  },
  {
   "cell_type": "code",
   "execution_count": 2,
   "id": "903a015b-229d-4c01-8761-ddeb05c7e0e5",
   "metadata": {},
   "outputs": [],
   "source": [
    "# get input\n",
    "with open(\"Input.txt\") as input:\n",
    "    data = input.read().strip().split('\\n')"
   ]
  },
  {
   "cell_type": "code",
   "execution_count": 3,
   "id": "a8c82d91-ddaf-4205-be5b-5eda61f2cda3",
   "metadata": {},
   "outputs": [],
   "source": [
    "# init a score\n",
    "score = 0"
   ]
  },
  {
   "cell_type": "code",
   "execution_count": 4,
   "id": "46fcf707-5c74-4c45-98c9-df09fd73877e",
   "metadata": {},
   "outputs": [],
   "source": [
    "# utils\n",
    "def mul(a,b):\n",
    "    return(a*b)\n",
    "\n",
    "def adt(a,b):\n",
    "    return(a+b)\n",
    "\n",
    "def operation(a:int,b,c:int):\n",
    "    return b(a,c)"
   ]
  },
  {
   "cell_type": "code",
   "execution_count": 5,
   "id": "d3e2f736-f3b3-429b-a0cb-a6a6448c55ee",
   "metadata": {},
   "outputs": [],
   "source": [
    "#for each line\n",
    "for line in data:\n",
    "    line = line.split(':')\n",
    "    # extract the test_value\n",
    "    test_value = int(line[0])\n",
    "    # extract the equation\n",
    "    equation = list(map(int, line[1].strip().split(' ')))\n",
    "    # init result at 0\n",
    "    result = 0\n",
    "    # define every combination of + and * for this line\n",
    "    operator_list = [operator for operator in product([adt, mul], repeat=len(equation)) if operator[0]==adt]\n",
    "    # for every possible combination of + and * in the equation\n",
    "    for operator in operator_list:\n",
    "        for op, num in zip(operator, equation):\n",
    "            result = operation(result, op, num) \n",
    "            #until getting the result\n",
    "        if result == test_value:\n",
    "            # add result to score\n",
    "            score += result\n",
    "            break\n",
    "        else:\n",
    "            result = 0\n",
    "            continue"
   ]
  },
  {
   "cell_type": "code",
   "execution_count": 6,
   "id": "b0261db2-aca6-469f-a848-b0195da14846",
   "metadata": {},
   "outputs": [
    {
     "data": {
      "text/plain": [
       "1620690235709"
      ]
     },
     "execution_count": 6,
     "metadata": {},
     "output_type": "execute_result"
    }
   ],
   "source": [
    "# display score : 1620690235709\n",
    "score"
   ]
  }
 ],
 "metadata": {
  "kernelspec": {
   "display_name": "Python 3 (ipykernel)",
   "language": "python",
   "name": "python3"
  },
  "language_info": {
   "codemirror_mode": {
    "name": "ipython",
    "version": 3
   },
   "file_extension": ".py",
   "mimetype": "text/x-python",
   "name": "python",
   "nbconvert_exporter": "python",
   "pygments_lexer": "ipython3",
   "version": "3.9.13"
  }
 },
 "nbformat": 4,
 "nbformat_minor": 5
}
