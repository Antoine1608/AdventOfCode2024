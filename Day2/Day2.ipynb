{
 "cells": [
  {
   "cell_type": "raw",
   "id": "4c5f28a7-dc71-42a3-8b3b-60eb55ce8a5b",
   "metadata": {},
   "source": [
    "PART 1\n",
    "get data\n",
    "init score\n",
    "loop through lines\n",
    "record spaces between digits into a list\n",
    "for each list test if all spaces are < 0 or > 0\n",
    "if True test if all space are > 0 and < 4 or < 0 and > -4\n",
    "if True add 1 to score\n",
    "display score"
   ]
  },
  {
   "cell_type": "code",
   "execution_count": 1,
   "id": "121bc60e-baea-4008-ba8d-a254b606ba46",
   "metadata": {},
   "outputs": [],
   "source": [
    "import pandas as pd\n",
    "from collections import Counter"
   ]
  },
  {
   "cell_type": "code",
   "execution_count": 2,
   "id": "f8308a17-4d74-44cd-8b00-c1fea9e184c6",
   "metadata": {},
   "outputs": [
    {
     "data": {
      "text/html": [
       "<div>\n",
       "<style scoped>\n",
       "    .dataframe tbody tr th:only-of-type {\n",
       "        vertical-align: middle;\n",
       "    }\n",
       "\n",
       "    .dataframe tbody tr th {\n",
       "        vertical-align: top;\n",
       "    }\n",
       "\n",
       "    .dataframe thead th {\n",
       "        text-align: right;\n",
       "    }\n",
       "</style>\n",
       "<table border=\"1\" class=\"dataframe\">\n",
       "  <thead>\n",
       "    <tr style=\"text-align: right;\">\n",
       "      <th></th>\n",
       "      <th>0</th>\n",
       "    </tr>\n",
       "  </thead>\n",
       "  <tbody>\n",
       "    <tr>\n",
       "      <th>0</th>\n",
       "      <td>7 6 4 2 1</td>\n",
       "    </tr>\n",
       "    <tr>\n",
       "      <th>1</th>\n",
       "      <td>1 2 7 8 9</td>\n",
       "    </tr>\n",
       "    <tr>\n",
       "      <th>2</th>\n",
       "      <td>9 7 6 2 1</td>\n",
       "    </tr>\n",
       "    <tr>\n",
       "      <th>3</th>\n",
       "      <td>1 3 2 4 5</td>\n",
       "    </tr>\n",
       "    <tr>\n",
       "      <th>4</th>\n",
       "      <td>8 6 4 4 1</td>\n",
       "    </tr>\n",
       "    <tr>\n",
       "      <th>5</th>\n",
       "      <td>1 3 6 7 9</td>\n",
       "    </tr>\n",
       "  </tbody>\n",
       "</table>\n",
       "</div>"
      ],
      "text/plain": [
       "           0\n",
       "0  7 6 4 2 1\n",
       "1  1 2 7 8 9\n",
       "2  9 7 6 2 1\n",
       "3  1 3 2 4 5\n",
       "4  8 6 4 4 1\n",
       "5  1 3 6 7 9"
      ]
     },
     "execution_count": 2,
     "metadata": {},
     "output_type": "execute_result"
    }
   ],
   "source": [
    "# get data\n",
    "data = pd.read_csv(\"Sample.txt\", header=None)\n",
    "data"
   ]
  },
  {
   "cell_type": "code",
   "execution_count": 3,
   "id": "ba958f96-7fd8-40b9-a5a8-e8d7fc0c8e92",
   "metadata": {},
   "outputs": [],
   "source": [
    "# init score\n",
    "score = 0\n",
    "bad_lines = [] # for PART 2"
   ]
  },
  {
   "cell_type": "code",
   "execution_count": 4,
   "id": "ab524ab8-d333-415c-8c16-4e7025a5021b",
   "metadata": {},
   "outputs": [],
   "source": [
    "# loop through lines\n",
    "for i in range(len(data)):\n",
    "    line = [int(x) for x in data.iloc[i,0].split()]\n",
    "    # record spaces between digits into a list\n",
    "    space_list = [line[j+1]-line[j] for j in range(len(line)-1)]\n",
    "    #print(space_list)\n",
    "    # for each list test if all spaces are < 0 or > 0\n",
    "    if all(x>0 for x in space_list) or all(x<0 for x in space_list):\n",
    "        #print('1 : ',all(x>0 for x in space_list) or all(x<0 for x in space_list))\n",
    "        # if True test if all spaces are > 0 and < 4 or < 0 and > -4\n",
    "        if all(0<x<4 for x in space_list) or  all(0>x>-4 for x in space_list):\n",
    "            #print('2 : ',all(0<x<4 for x in space_list) or  all(0>x>-4 for x in space_list))\n",
    "            # if True add 1 to score\n",
    "            score += 1\n",
    "            continue\n",
    "        else : # for PART 2\n",
    "            bad_lines.append(bad_line)\n",
    "            continue\n",
    "    else : # for PART 2\n",
    "        bad_lines.append(bad_line)\n",
    "        continue    "
   ]
  },
  {
   "cell_type": "code",
   "execution_count": 5,
   "id": "656cb796-e711-4e9e-adac-89fac60d7fd8",
   "metadata": {},
   "outputs": [
    {
     "data": {
      "text/plain": [
       "[[1, 5, 1, 1], [-2, -1, -4, -1], [2, -1, 2, 1], [-2, -2, 0, -3]]"
      ]
     },
     "execution_count": 5,
     "metadata": {},
     "output_type": "execute_result"
    }
   ],
   "source": [
    "bad_lists"
   ]
  },
  {
   "cell_type": "code",
   "execution_count": 6,
   "id": "6055ea50-5ff5-4758-82dd-34fbe77f7dfa",
   "metadata": {},
   "outputs": [
    {
     "data": {
      "text/plain": [
       "2"
      ]
     },
     "execution_count": 6,
     "metadata": {},
     "output_type": "execute_result"
    }
   ],
   "source": [
    "# display score \n",
    "score\n",
    "# CORRECT SCORE : 598"
   ]
  },
  {
   "cell_type": "raw",
   "id": "fa9667e6-7cc0-4b39-92c4-e8998ae9a013",
   "metadata": {},
   "source": [
    "PART 2 \n",
    "for each non conform bad list\n",
    "init a counter\n",
    "init a sign\n",
    "iterate through the list until you meet an anomaly (abs > 3, 0, change of signe)\n",
    "    add one to the counter\n",
    "if the counter > 1\n",
    "    the score doesn't change\n",
    "else add 1 to the score\n",
    "display score"
   ]
  },
  {
   "cell_type": "code",
   "execution_count": 7,
   "id": "a69d5af0-0edc-4ae7-a4d0-cd55ab67d05e",
   "metadata": {},
   "outputs": [
    {
     "name": "stdout",
     "output_type": "stream",
     "text": [
      "sign is  1.0\n",
      "1  cdt :  False\n",
      "5  cdt :  True\n",
      "1  cdt :  False\n",
      "1  cdt :  False\n",
      "counter :  1\n",
      "score added\n",
      "sign is  -1.0\n",
      "-2  cdt :  False\n",
      "-1  cdt :  False\n",
      "-4  cdt :  True\n",
      "-1  cdt :  False\n",
      "counter :  1\n",
      "score added\n",
      "sign is  1.0\n",
      "2  cdt :  False\n",
      "-1  cdt :  True\n",
      "2  cdt :  False\n",
      "1  cdt :  False\n",
      "counter :  1\n",
      "score added\n",
      "sign is  -1.0\n",
      "-2  cdt :  False\n",
      "-2  cdt :  False\n",
      "0  cdt :  True\n",
      "-3  cdt :  False\n",
      "counter :  1\n",
      "score added\n"
     ]
    }
   ],
   "source": [
    "# for each non conform bad line\n",
    "for bad_line in bad_lines:\n",
    "    # init a counter\n",
    "    counter_ = 0\n",
    "    # init a sign\n",
    "    sign = abs(bad_list[0])/bad_list[0]\n",
    "    print(\"sign is \",sign)\n",
    "    # iterate through the list until you meet an anomaly (abs > 3, 0, change of signe)\n",
    "    for digit in bad_list:\n",
    "        print(digit, \" cdt : \",abs(digit) > 3 or digit == 0 or (abs(digit)/digit) != sign)\n",
    "        if abs(digit) > 3 or digit == 0 or (abs(digit)/digit) != sign :\n",
    "            # add one to the counter\n",
    "            counter_ += 1\n",
    "    # if the counter > 1\n",
    "    print(\"counter : \",counter_)\n",
    "    if counter_ > 1:\n",
    "        #the score doesn't change\n",
    "        pass\n",
    "    else:\n",
    "        score += 1\n",
    "        print(\"score added\")"
   ]
  },
  {
   "cell_type": "raw",
   "id": "8b3262e2-84bd-4610-93a4-bd497343b934",
   "metadata": {},
   "source": [
    "iterate through the bad_list\n",
    "    if anomaly (abs > 3, 0, change of signe)\n",
    "        remove bad digit from bad_list\n",
    "        retest part 1 bad_list\n",
    "    else\n",
    "        continue "
   ]
  },
  {
   "cell_type": "code",
   "execution_count": 8,
   "id": "365d5b59-f32b-4f6d-a407-b8cfc35c6385",
   "metadata": {},
   "outputs": [],
   "source": [
    "def retest(bad_list):\n",
    "    add_to_score = 0\n",
    "    # init a counter\n",
    "    counter_ = 0\n",
    "    # init a sign\n",
    "    sign = abs(bad_list[0])/bad_list[0]\n",
    "    print(\"sign is \",sign)\n",
    "    # iterate through the list until you meet an anomaly (abs > 3, 0, change of signe)\n",
    "    for digit in bad_list:\n",
    "        print(digit, \" cdt : \",abs(digit) > 3 or digit == 0 or (abs(digit)/digit) != sign)\n",
    "        if abs(digit) > 3 or digit == 0 or (abs(digit)/digit) != sign :\n",
    "            # add one to the counter\n",
    "            counter_ += 1\n",
    "    # if the counter > 1\n",
    "    print(\"counter : \",counter_)\n",
    "    if counter_ > 1:\n",
    "        #the score doesn't change\n",
    "        pass\n",
    "    else:\n",
    "        add_to_score += 1\n",
    "    return add_to_score    "
   ]
  },
  {
   "cell_type": "code",
   "execution_count": 9,
   "id": "9052fd34-aaa1-4c7f-9ab9-4a2465d81e4f",
   "metadata": {},
   "outputs": [
    {
     "name": "stdout",
     "output_type": "stream",
     "text": [
      "sign is  1.0\n",
      "1  cdt :  False\n",
      "1  cdt :  False\n",
      "1  cdt :  False\n",
      "counter :  0\n",
      "sign is  -1.0\n",
      "-2  cdt :  False\n",
      "-1  cdt :  False\n",
      "-1  cdt :  False\n",
      "counter :  0\n",
      "sign is  1.0\n",
      "2  cdt :  False\n",
      "2  cdt :  False\n",
      "1  cdt :  False\n",
      "counter :  0\n",
      "sign is  -1.0\n",
      "-2  cdt :  False\n",
      "-2  cdt :  False\n",
      "-3  cdt :  False\n",
      "counter :  0\n"
     ]
    },
    {
     "data": {
      "text/plain": [
       "10"
      ]
     },
     "execution_count": 9,
     "metadata": {},
     "output_type": "execute_result"
    }
   ],
   "source": [
    "# iterate through the bad_line\n",
    "for bad_list in bad_lists:\n",
    "    for digit in bad_list:\n",
    "        # init sign\n",
    "        sign = abs(bad_list[0])/bad_list[0]\n",
    "        # if anomaly (abs > 3, 0, change of signe)\n",
    "        if abs(digit)>3 or digit==0 or (abs(digit)/digit) != sign:\n",
    "            # remove bad digit from bad_list\n",
    "            bad_list.remove(digit)\n",
    "            #retest part 1 bad_list\n",
    "            score += retest(bad_list)\n",
    "        else:\n",
    "            continue\n",
    "score  "
   ]
  }
 ],
 "metadata": {
  "kernelspec": {
   "display_name": "Python 3 (ipykernel)",
   "language": "python",
   "name": "python3"
  },
  "language_info": {
   "codemirror_mode": {
    "name": "ipython",
    "version": 3
   },
   "file_extension": ".py",
   "mimetype": "text/x-python",
   "name": "python",
   "nbconvert_exporter": "python",
   "pygments_lexer": "ipython3",
   "version": "3.9.13"
  }
 },
 "nbformat": 4,
 "nbformat_minor": 5
}
