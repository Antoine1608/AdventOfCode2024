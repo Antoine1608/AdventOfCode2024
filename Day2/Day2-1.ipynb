{
 "cells": [
  {
   "cell_type": "code",
   "execution_count": 21,
   "id": "b2428174-0162-45da-a739-bf4960f794e9",
   "metadata": {},
   "outputs": [],
   "source": [
    "with open(\"Input.txt\") as f:\n",
    "    input = f.read().split('\\n')\n",
    "input = [x.split(' ') for x in input]"
   ]
  },
  {
   "cell_type": "code",
   "execution_count": 22,
   "id": "8a4d3fa7-229a-4fc3-bd22-3e7916ff53d0",
   "metadata": {},
   "outputs": [
    {
     "data": {
      "text/plain": [
       "598"
      ]
     },
     "execution_count": 22,
     "metadata": {},
     "output_type": "execute_result"
    }
   ],
   "source": [
    "s = 0\n",
    "for l in input:\n",
    "    if ((all([int(l[i]) - int(l[i+1]) > 0 for i in range(len(l)-1)])) or all([int(l[i]) - int(l[i+1]) < 0 for i in range(len(l)-1)])) and all([abs(int(l[i]) - int(l[i+1])) < 4 for i in range(len(l)-1)]):\n",
    "        s +=1\n",
    "s        "
   ]
  }
 ],
 "metadata": {
  "kernelspec": {
   "display_name": "Python 3 (ipykernel)",
   "language": "python",
   "name": "python3"
  },
  "language_info": {
   "codemirror_mode": {
    "name": "ipython",
    "version": 3
   },
   "file_extension": ".py",
   "mimetype": "text/x-python",
   "name": "python",
   "nbconvert_exporter": "python",
   "pygments_lexer": "ipython3",
   "version": "3.9.13"
  }
 },
 "nbformat": 4,
 "nbformat_minor": 5
}
