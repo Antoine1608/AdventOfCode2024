{
 "cells": [
  {
   "cell_type": "code",
   "execution_count": 1,
   "id": "55f6d06c-7725-44f5-bab5-2ee1cefae992",
   "metadata": {},
   "outputs": [],
   "source": [
    "with open(\"Input.txt\") as f:\n",
    "    input = f.read().split('\\n')\n",
    "input = [x.split(' ') for x in input]"
   ]
  },
  {
   "cell_type": "code",
   "execution_count": 2,
   "id": "4ebf8e52-ca5a-4921-92a5-8252ccca6303",
   "metadata": {},
   "outputs": [],
   "source": [
    "def test(l):\n",
    "    if ((all([int(l[i]) - int(l[i+1]) > 0 for i in range(len(l)-1)])) or all([int(l[i]) - int(l[i+1]) < 0 for i in range(len(l)-1)])) and all([abs(int(l[i]) - int(l[i+1])) < 4 for i in range(len(l)-1)]):\n",
    "        return 1\n",
    "    else:\n",
    "        return 0  "
   ]
  },
  {
   "cell_type": "code",
   "execution_count": 3,
   "id": "b8c651c0-8636-4f0c-98fb-a0f06c8774ce",
   "metadata": {},
   "outputs": [
    {
     "data": {
      "text/plain": [
       "634"
      ]
     },
     "execution_count": 3,
     "metadata": {},
     "output_type": "execute_result"
    }
   ],
   "source": [
    "s = 0\n",
    "for l in input:\n",
    "    if test(l) == 1 :\n",
    "        s += test(l)\n",
    "        continue\n",
    "    else:\n",
    "         for i in range(len(l)):\n",
    "            l1 = l.copy()\n",
    "            l1.pop(i)\n",
    "            if test(l1) == 1:\n",
    "                s += test(l1)\n",
    "                break\n",
    "s"
   ]
  }
 ],
 "metadata": {
  "kernelspec": {
   "display_name": "Python 3 (ipykernel)",
   "language": "python",
   "name": "python3"
  },
  "language_info": {
   "codemirror_mode": {
    "name": "ipython",
    "version": 3
   },
   "file_extension": ".py",
   "mimetype": "text/x-python",
   "name": "python",
   "nbconvert_exporter": "python",
   "pygments_lexer": "ipython3",
   "version": "3.9.13"
  }
 },
 "nbformat": 4,
 "nbformat_minor": 5
}
