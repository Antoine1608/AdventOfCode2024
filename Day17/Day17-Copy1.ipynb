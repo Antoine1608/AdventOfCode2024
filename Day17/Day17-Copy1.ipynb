{
 "cells": [
  {
   "cell_type": "code",
   "execution_count": 4,
   "id": "3a558ec3-a59b-45de-8e9a-a73c1b779e4a",
   "metadata": {},
   "outputs": [
    {
     "data": {
      "text/plain": [
       "182"
      ]
     },
     "execution_count": 4,
     "metadata": {},
     "output_type": "execute_result"
    }
   ],
   "source": [
    "def adv(x) :\n",
    "    global instruction_pointer\n",
    "    numerator = register_dict[\"A\"]\n",
    "    denominator = combo_operand_dict[x]\n",
    "    result = numerator/(denominator * denominator)\n",
    "    register_dict[\"A\"] = int(result)\n",
    "    instruction_pointer += 2\n",
    "    return int(result) # register_dict(\"A\") =\n",
    "\n",
    "# example :\n",
    "adv(2)"
   ]
  },
  {
   "cell_type": "code",
   "execution_count": 5,
   "id": "d3472ec7-fb4e-46dc-83c6-0db79ac552f4",
   "metadata": {},
   "outputs": [
    {
     "data": {
      "text/plain": [
       "2"
      ]
     },
     "execution_count": 5,
     "metadata": {},
     "output_type": "execute_result"
    }
   ],
   "source": [
    "def bxl(x) : \n",
    "    global instruction_pointer\n",
    "    register_dict[\"B\"] = register_dict[\"B\"] ^ combo_operand_dict[x]\n",
    "    instruction_pointer += 2\n",
    "    return register_dict[\"B\"]\n",
    "\n",
    "# example\n",
    "bxl(2)"
   ]
  },
  {
   "cell_type": "code",
   "execution_count": 6,
   "id": "ea7c10ba-5610-48bd-91d7-963368509bee",
   "metadata": {},
   "outputs": [
    {
     "data": {
      "text/plain": [
       "1"
      ]
     },
     "execution_count": 6,
     "metadata": {},
     "output_type": "execute_result"
    }
   ],
   "source": [
    "def bst(x) : \n",
    "    global instruction_pointer\n",
    "    register_dict[\"B\"] = x % 8\n",
    "    instruction_pointer += 2\n",
    "    return register_dict[\"B\"]\n",
    "\n",
    "# example\n",
    "bst(17)"
   ]
  },
  {
   "cell_type": "code",
   "execution_count": 7,
   "id": "bc8df8a2-0175-4889-bdf9-b1f550bda835",
   "metadata": {},
   "outputs": [
    {
     "data": {
      "text/plain": [
       "2"
      ]
     },
     "execution_count": 7,
     "metadata": {},
     "output_type": "execute_result"
    }
   ],
   "source": [
    "def jnz(x) : \n",
    "    global instruction_pointer\n",
    "    if register_dict[\"A\"] != 0 :\n",
    "        instruction_pointer = x\n",
    "    else :\n",
    "        instruction_pointer += 2\n",
    "    return instruction_pointer\n",
    "        \n",
    "# example\n",
    "jnz(2)"
   ]
  },
  {
   "cell_type": "code",
   "execution_count": 8,
   "id": "93e23d2a-4e18-40d5-8f77-11f471beef8b",
   "metadata": {},
   "outputs": [
    {
     "data": {
      "text/plain": [
       "1"
      ]
     },
     "execution_count": 8,
     "metadata": {},
     "output_type": "execute_result"
    }
   ],
   "source": [
    "def bxc(x) :\n",
    "    global instruction_pointer\n",
    "    register_dict[\"B\"] = register_dict[\"B\"] ^ register_dict[\"C\"]\n",
    "    instruction_pointer += 2\n",
    "    return register_dict[\"B\"]\n",
    "\n",
    "# example\n",
    "bxc(2)"
   ]
  },
  {
   "cell_type": "code",
   "execution_count": 9,
   "id": "2a418cb1-5759-42ef-8329-7688564c47cf",
   "metadata": {},
   "outputs": [
    {
     "data": {
      "text/plain": [
       "2"
      ]
     },
     "execution_count": 9,
     "metadata": {},
     "output_type": "execute_result"
    }
   ],
   "source": [
    "def out(x) :\n",
    "    global instruction_pointer    \n",
    "    instruction_pointer += 2\n",
    "    out_list.append(combo_operand_dict[x])\n",
    "    return combo_operand_dict[x]\n",
    "\n",
    "# (If a program outputs multiple values, they are separated by commas.)\n",
    "# example\n",
    "out(2)"
   ]
  },
  {
   "cell_type": "code",
   "execution_count": 10,
   "id": "59ade281-6c99-4417-b05f-8ba8c3daa7d6",
   "metadata": {},
   "outputs": [
    {
     "data": {
      "text/plain": [
       "45"
      ]
     },
     "execution_count": 10,
     "metadata": {},
     "output_type": "execute_result"
    }
   ],
   "source": [
    "def bdv(x) :\n",
    "    global instruction_pointer\n",
    "    numerator = register_dict[\"A\"]\n",
    "    denominator = combo_operand_dict[x]\n",
    "    result = numerator/(denominator * denominator)\n",
    "    register_dict[\"B\"] = int(result)\n",
    "    instruction_pointer += 2\n",
    "    return int(result) # register_dict(\"A\") =\n",
    "\n",
    "# example\n",
    "bdv(2)"
   ]
  },
  {
   "cell_type": "code",
   "execution_count": 11,
   "id": "3526d982-6c95-4c68-a644-cadddb57da5e",
   "metadata": {},
   "outputs": [
    {
     "data": {
      "text/plain": [
       "45"
      ]
     },
     "execution_count": 11,
     "metadata": {},
     "output_type": "execute_result"
    }
   ],
   "source": [
    "def cdv(x) :\n",
    "    global instruction_pointer\n",
    "    numerator = register_dict[\"A\"]\n",
    "    denominator = combo_operand_dict[x]\n",
    "    result = numerator/(denominator * denominator)\n",
    "    register_dict[\"C\"] = int(result)\n",
    "    instruction_pointer += 2\n",
    "    return int(result) # register_dict(\"A\") =\n",
    "\n",
    "# example\n",
    "cdv(2)"
   ]
  },
  {
   "cell_type": "code",
   "execution_count": 13,
   "id": "48778c95-773b-4b3b-9cfc-f9b8dd8770b4",
   "metadata": {},
   "outputs": [],
   "source": [
    "opcode_dict = {0 : adv, \n",
    "              1 : bxl, \n",
    "              2 : bst, \n",
    "              3 : jnz, \n",
    "              4 : bxc, \n",
    "              5 : out, \n",
    "              6 : bdv, \n",
    "              7 : cdv}"
   ]
  },
  {
   "cell_type": "code",
   "execution_count": 2,
   "id": "f4be3040-0633-45bc-909f-c4e586a2c322",
   "metadata": {},
   "outputs": [],
   "source": [
    "register_dict = {\"A\" : 729,  \"B\": 0, \"C\" : 0}\n",
    "instruction_pointer = 0\n",
    "out_list = []"
   ]
  },
  {
   "cell_type": "code",
   "execution_count": 3,
   "id": "0cba104f-17aa-4091-ad6c-511800075ea5",
   "metadata": {},
   "outputs": [],
   "source": [
    "combo_operand_dict = {0 : 0,\n",
    "                      1 : 1,\n",
    "                      2 : 2,\n",
    "                      3 : 3,\n",
    "                      4 : register_dict[\"A\"],\n",
    "                      5 : register_dict[\"B\"],\n",
    "                      6 : register_dict[\"C\"],\n",
    "                      7 : \"other\"}"
   ]
  },
  {
   "cell_type": "code",
   "execution_count": 14,
   "id": "0cd4db0a-8504-4fcf-8466-36f0ceb1ee32",
   "metadata": {},
   "outputs": [
    {
     "ename": "NameError",
     "evalue": "name 'x' is not defined",
     "output_type": "error",
     "traceback": [
      "\u001b[1;31m---------------------------------------------------------------------------\u001b[0m",
      "\u001b[1;31mNameError\u001b[0m                                 Traceback (most recent call last)",
      "Cell \u001b[1;32mIn[14], line 8\u001b[0m\n\u001b[0;32m      6\u001b[0m \u001b[38;5;28;01mwhile\u001b[39;00m i \u001b[38;5;241m<\u001b[39m \u001b[38;5;28mlen\u001b[39m(program) :\n\u001b[0;32m      7\u001b[0m     operand \u001b[38;5;241m=\u001b[39m program[i\u001b[38;5;241m+\u001b[39m\u001b[38;5;241m1\u001b[39m]\n\u001b[1;32m----> 8\u001b[0m     \u001b[38;5;28mprint\u001b[39m(\u001b[38;5;124m\"\u001b[39m\u001b[38;5;124mprogram : \u001b[39m\u001b[38;5;124m\"\u001b[39m, program[i], \u001b[38;5;124m\"\u001b[39m\u001b[38;5;124m operand : \u001b[39m\u001b[38;5;124m\"\u001b[39m,operand, \u001b[38;5;124m'\u001b[39m\u001b[38;5;124m combo_operand_dict[operand] \u001b[39m\u001b[38;5;124m'\u001b[39m, combo_operand_dict[operand],\u001b[38;5;124m'\u001b[39m\u001b[38;5;124m opcode_dict[x] \u001b[39m\u001b[38;5;124m'\u001b[39m, opcode_dict[\u001b[43mx\u001b[49m]\u001b[38;5;241m.\u001b[39m\u001b[38;5;18m__name__\u001b[39m)\n\u001b[0;32m      9\u001b[0m     opcode_dict[program[i]](combo_operand_dict[operand])   \n\u001b[0;32m     10\u001b[0m     i \u001b[38;5;241m=\u001b[39m instruction_pointer\n",
      "\u001b[1;31mNameError\u001b[0m: name 'x' is not defined"
     ]
    }
   ],
   "source": [
    "register_dict = {\"A\" : 7645,  \"B\": 3457, \"C\" : 2349}\n",
    "instruction_pointer = 0\n",
    "out_list = []\n",
    "i = 0\n",
    "program = (0,1,5,4,3,5,3,5,6,3)\n",
    "while i < len(program) :\n",
    "    operand = program[i+1]\n",
    "    print(\"program : \", program[i], \" operand : \",operand, ' combo_operand_dict[operand] ', combo_operand_dict[operand],' opcode_dict[x] ', opcode_dict[x].__name__)\n",
    "    opcode_dict[program[i]](combo_operand_dict[operand])   \n",
    "    i = instruction_pointer"
   ]
  },
  {
   "cell_type": "code",
   "execution_count": null,
   "id": "77592de1-0d9c-4bc9-8e2b-679ea484161d",
   "metadata": {},
   "outputs": [],
   "source": [
    "print('register_dict[\"A\"] : ', register_dict[\"A\"], \"\\n\",\n",
    "      'register_dict[\"B\"] : ', register_dict[\"B\"], \"\\n\",\n",
    "      'register_dict[\"C\"] : ', register_dict[\"C\"], \"\\n\",\n",
    "      'out_list : ', out_list)"
   ]
  },
  {
   "cell_type": "code",
   "execution_count": null,
   "id": "2f663460-bcaf-4547-8d4d-7eb7fd7715d8",
   "metadata": {},
   "outputs": [],
   "source": []
  }
 ],
 "metadata": {
  "kernelspec": {
   "display_name": "Python 3 (ipykernel)",
   "language": "python",
   "name": "python3"
  },
  "language_info": {
   "codemirror_mode": {
    "name": "ipython",
    "version": 3
   },
   "file_extension": ".py",
   "mimetype": "text/x-python",
   "name": "python",
   "nbconvert_exporter": "python",
   "pygments_lexer": "ipython3",
   "version": "3.9.13"
  }
 },
 "nbformat": 4,
 "nbformat_minor": 5
}
