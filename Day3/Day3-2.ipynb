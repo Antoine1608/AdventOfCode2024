{
 "cells": [
  {
   "cell_type": "code",
   "execution_count": 1,
   "id": "a73bd89d-1e93-4153-ae42-e914b2d0e5c4",
   "metadata": {},
   "outputs": [],
   "source": [
    "import re"
   ]
  },
  {
   "cell_type": "code",
   "execution_count": 2,
   "id": "94d89ac5-7110-43b9-8762-e25575f1eb88",
   "metadata": {},
   "outputs": [],
   "source": [
    "with open(\"Input.txt\") as f:\n",
    "    input = f.read()"
   ]
  },
  {
   "cell_type": "code",
   "execution_count": 3,
   "id": "81b335d3-2976-4ac9-a0de-0791e25f9562",
   "metadata": {},
   "outputs": [],
   "source": [
    "# dans input repérer l'index de tous les motif do() et don't()\n",
    "do = []\n",
    "dont = []\n",
    "for i in range(len(input)):\n",
    "    for j in range(10):\n",
    "        if input[i:i+j] == 'do()':\n",
    "            do.append(i)\n",
    "            continue\n",
    "        if input[i:i+j] == 'don\\'t()':\n",
    "            dont.append(i)\n",
    "            continue   "
   ]
  },
  {
   "cell_type": "code",
   "execution_count": 4,
   "id": "d1db5a42-d09e-458e-a223-abbb8c6e7cf5",
   "metadata": {},
   "outputs": [],
   "source": [
    "def score_(list_):\n",
    "    score = 0\n",
    "    \n",
    "    for item in re.findall(r\"mul\\((-?\\d+),(-?\\d+)\\)\", list_):\n",
    "        score += int(item[0])*int(item[1])\n",
    "    \n",
    "    return score"
   ]
  },
  {
   "cell_type": "code",
   "execution_count": 5,
   "id": "d13d2104-7d3a-4736-8233-44bf214aa3e4",
   "metadata": {},
   "outputs": [],
   "source": [
    "def do_(i_):\n",
    "    i = i_\n",
    "    while i not in do and i < len(input):\n",
    "        i = i + 1\n",
    "    return i\n",
    "\n",
    "def dont_(i_):\n",
    "    i = i_\n",
    "    while i not in dont and i < len(input):\n",
    "        i = i + 1\n",
    "    score(data[i_:i])  "
   ]
  },
  {
   "cell_type": "code",
   "execution_count": 6,
   "id": "ea8c25f4-a74e-4aaa-829d-95aab3f1a0b3",
   "metadata": {
    "scrolled": true
   },
   "outputs": [
    {
     "data": {
      "text/plain": [
       "76729637"
      ]
     },
     "execution_count": 6,
     "metadata": {},
     "output_type": "execute_result"
    }
   ],
   "source": [
    "i = 0\n",
    "score = 0\n",
    "while i < len(input):\n",
    "    j = i\n",
    "    while i not in dont and i < len(input):\n",
    "        i += 1\n",
    "    score += score_(input[j:i])\n",
    "    while i not in do and i < len(input):\n",
    "        i += 1\n",
    "\n",
    "score\n",
    "# 76729637"
   ]
  }
 ],
 "metadata": {
  "kernelspec": {
   "display_name": "Python 3 (ipykernel)",
   "language": "python",
   "name": "python3"
  },
  "language_info": {
   "codemirror_mode": {
    "name": "ipython",
    "version": 3
   },
   "file_extension": ".py",
   "mimetype": "text/x-python",
   "name": "python",
   "nbconvert_exporter": "python",
   "pygments_lexer": "ipython3",
   "version": "3.9.13"
  }
 },
 "nbformat": 4,
 "nbformat_minor": 5
}
