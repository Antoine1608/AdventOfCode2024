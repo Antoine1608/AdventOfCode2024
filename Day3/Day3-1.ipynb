{
 "cells": [
  {
   "cell_type": "code",
   "execution_count": 1,
   "id": "4633bf6d-c41a-407a-8747-a808ee1d6812",
   "metadata": {},
   "outputs": [],
   "source": [
    "import pandas as pd\n",
    "import re"
   ]
  },
  {
   "cell_type": "code",
   "execution_count": 10,
   "id": "b01e2df0-f5b4-430b-8482-d4a22f6d0051",
   "metadata": {},
   "outputs": [],
   "source": [
    "with open(\"Input.txt\") as f:\n",
    "    input = f.read()"
   ]
  },
  {
   "cell_type": "code",
   "execution_count": 11,
   "id": "92f9da20-9360-4ddf-850b-ef051eb8b88a",
   "metadata": {},
   "outputs": [
    {
     "data": {
      "text/plain": [
       "178794710"
      ]
     },
     "execution_count": 11,
     "metadata": {},
     "output_type": "execute_result"
    }
   ],
   "source": [
    "pattern = r\"mul\\((-?\\d+),(-?\\d+)\\)\"\n",
    "score = 0\n",
    "list_pattern = re.findall(pattern, input)\n",
    "\n",
    "for item in list_pattern:\n",
    "    mul = int(item[0])*int(item[1])\n",
    "    score += mul\n",
    "\n",
    "score\n",
    "# 178794710"
   ]
  }
 ],
 "metadata": {
  "kernelspec": {
   "display_name": "Python 3 (ipykernel)",
   "language": "python",
   "name": "python3"
  },
  "language_info": {
   "codemirror_mode": {
    "name": "ipython",
    "version": 3
   },
   "file_extension": ".py",
   "mimetype": "text/x-python",
   "name": "python",
   "nbconvert_exporter": "python",
   "pygments_lexer": "ipython3",
   "version": "3.9.13"
  }
 },
 "nbformat": 4,
 "nbformat_minor": 5
}
