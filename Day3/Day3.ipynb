{
 "cells": [
  {
   "cell_type": "code",
   "execution_count": 1,
   "id": "4633bf6d-c41a-407a-8747-a808ee1d6812",
   "metadata": {},
   "outputs": [],
   "source": [
    "import pandas as pd\n",
    "import re"
   ]
  },
  {
   "cell_type": "raw",
   "id": "5cb5ee0e-6ed4-4f25-9a3b-d5913ca187ac",
   "metadata": {},
   "source": [
    "PART 1\n",
    "get data\n",
    "define re pattern\n",
    "init a score\n",
    "apply re pattern to data and record '('nb','nb')' in a list\n",
    "loop through the list\n",
    "    multiply numbes of list item\n",
    "    add result to score\n",
    "display score"
   ]
  },
  {
   "cell_type": "code",
   "execution_count": 2,
   "id": "b01e2df0-f5b4-430b-8482-d4a22f6d0051",
   "metadata": {},
   "outputs": [],
   "source": [
    "# PART 1\n",
    "# get data\n",
    "with open(\"Sample.txt\") as text:\n",
    "    data = text.read()"
   ]
  },
  {
   "cell_type": "code",
   "execution_count": 3,
   "id": "0e37e5bf-cc00-4617-af46-d6de78d29668",
   "metadata": {},
   "outputs": [],
   "source": [
    "# define re pattern\n",
    "pattern = r\"mul\\((-?\\d+),(-?\\d+)\\)\""
   ]
  },
  {
   "cell_type": "code",
   "execution_count": 4,
   "id": "ee8abd33-e95b-4716-adf9-0601a305f84b",
   "metadata": {},
   "outputs": [],
   "source": [
    "# init a score\n",
    "score = 0"
   ]
  },
  {
   "cell_type": "code",
   "execution_count": 5,
   "id": "a9f2fbc9-3ce5-404e-bcb7-1074b108dd85",
   "metadata": {},
   "outputs": [
    {
     "data": {
      "text/plain": [
       "[('2', '4'), ('5', '5'), ('11', '8'), ('8', '5')]"
      ]
     },
     "execution_count": 5,
     "metadata": {},
     "output_type": "execute_result"
    }
   ],
   "source": [
    "# apply re pattern to data and record 'mul(nb,nb)' in a list\n",
    "list_pattern = re.findall(pattern, data)\n",
    "list_pattern"
   ]
  },
  {
   "cell_type": "code",
   "execution_count": 6,
   "id": "92f9da20-9360-4ddf-850b-ef051eb8b88a",
   "metadata": {},
   "outputs": [
    {
     "data": {
      "text/plain": [
       "161"
      ]
     },
     "execution_count": 6,
     "metadata": {},
     "output_type": "execute_result"
    }
   ],
   "source": [
    "# loop through the list\n",
    "for item in list_pattern:\n",
    "    # multiply numbers of list item\n",
    "    # item = list(item)\n",
    "    mul = int(item[0])*int(item[1])\n",
    "    # add result to score\n",
    "    score += mul\n",
    "# display score  : 178794710\n",
    "score"
   ]
  },
  {
   "cell_type": "raw",
   "id": "9a693579-1935-43b5-8287-5d236c9dca63",
   "metadata": {},
   "source": [
    "PART 2\n",
    "get data\n",
    "define re patterns to detect mul(nb,nb), do and don't\n",
    "init a score\n",
    "apply re pattern to data and record mul(nb,nb), do and don't in a list\n",
    "loop through the list\n",
    "    remove all mul(nb,nb) after a don't and before a do\n",
    "    if no do before the end remove it also\n",
    "loop through the updated list\n",
    "    multiply numbers of list item\n",
    "    add result to score\n",
    "display score"
   ]
  },
  {
   "cell_type": "raw",
   "id": "950bc125-907d-416e-a0da-f32f6ccdba39",
   "metadata": {},
   "source": [
    "PART 2\n",
    "get data\n",
    "\n",
    "split data on don't\n",
    "define re patterns to detect mul(nb,nb), do and don't\n",
    "init a score\n",
    "apply re pattern to data and record mul(nb,nb), do and don't in a list\n",
    "loop through the list\n",
    "    remove all mul(nb,nb) after a don't and before a do\n",
    "    if no do before the end remove it also\n",
    "loop through the updated list\n",
    "    multiply numbers of list item\n",
    "    add result to score\n",
    "display score"
   ]
  }
 ],
 "metadata": {
  "kernelspec": {
   "display_name": "Python 3 (ipykernel)",
   "language": "python",
   "name": "python3"
  },
  "language_info": {
   "codemirror_mode": {
    "name": "ipython",
    "version": 3
   },
   "file_extension": ".py",
   "mimetype": "text/x-python",
   "name": "python",
   "nbconvert_exporter": "python",
   "pygments_lexer": "ipython3",
   "version": "3.9.13"
  }
 },
 "nbformat": 4,
 "nbformat_minor": 5
}
