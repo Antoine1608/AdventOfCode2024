{
 "cells": [
  {
   "cell_type": "code",
   "execution_count": 1,
   "id": "8598c3f1-b4ae-4545-a3dc-8de2ed66329c",
   "metadata": {},
   "outputs": [],
   "source": [
    "from itertools import combinations_with_replacement, permutations, chain\n",
    "import numpy as np\n",
    "from functools import reduce\n",
    "from tqdm import tqdm"
   ]
  },
  {
   "cell_type": "code",
   "execution_count": 2,
   "id": "6d23a3e5-2804-42a4-b85d-33355f506358",
   "metadata": {},
   "outputs": [],
   "source": [
    "with open(\"Input.txt\") as file:\n",
    "    input = list(file.read().split('\\n'))\n",
    "    patterns = set(input[0].split(','))\n",
    "    patterns = {x.strip() for x in list(patterns)}\n",
    "    designs = [x for x in input[1:] if x != '']\n",
    "    file.close()"
   ]
  },
  {
   "cell_type": "code",
   "execution_count": 5,
   "id": "a7572186-d9e1-4315-9e49-e6606e7ca7e1",
   "metadata": {},
   "outputs": [
    {
     "data": {
      "text/plain": [
       "{'b', 'r', 'rwr'}"
      ]
     },
     "execution_count": 5,
     "metadata": {},
     "output_type": "execute_result"
    }
   ],
   "source": [
    "def sliced_design_set(arangem, design_):\n",
    "    #for design in designs:\n",
    "    idx_splits = list(np.where(np.array(arangem) == 1)[0])\n",
    "    design_sliced = []\n",
    "    #print('idx_split : ',idx_splits)\n",
    "    \n",
    "    if idx_splits == []:\n",
    "        return 'no split'\n",
    "    \n",
    "    if arangem[0] != 1:\n",
    "        #print('arang0')\n",
    "        design_sliced.append(design_[0 : idx_splits[0]])\n",
    "\n",
    "    for i in range(len(idx_splits)):\n",
    "        try:\n",
    "            design_sliced.append(design_[idx_splits[i] : idx_splits[i+1]])\n",
    "            #print(design_sliced)\n",
    "        except IndexError:\n",
    "            design_sliced.append(design_[idx_splits[i]:])\n",
    "            #print(design_sliced)\n",
    "            \n",
    "    return set(design_sliced)\n",
    "\n",
    "arang = [0,1,0,0,1]\n",
    "name = 'brwrr'\n",
    "sliced_design_set(arang, name)"
   ]
  },
  {
   "cell_type": "code",
   "execution_count": 6,
   "id": "ce108cbd-cd60-47a0-aa31-c09da28ac1c5",
   "metadata": {},
   "outputs": [
    {
     "data": {
      "text/plain": [
       "[1, 2, 3, 67, 9, 45]"
      ]
     },
     "execution_count": 6,
     "metadata": {},
     "output_type": "execute_result"
    }
   ],
   "source": [
    "def union_(a,b):\n",
    "    return a|b\n",
    "\n",
    "#exemple\n",
    "a = {45,67}\n",
    "b = {3,9}\n",
    "c = {1,2}\n",
    "list(reduce(union_, [a,b,c]))"
   ]
  },
  {
   "cell_type": "code",
   "execution_count": 7,
   "id": "53aa665e-7129-4271-9f01-6309f13c6bb8",
   "metadata": {},
   "outputs": [
    {
     "data": {
      "text/plain": [
       "{(0, 0, 0),\n",
       " (0, 0, 1),\n",
       " (0, 1, 0),\n",
       " (0, 1, 1),\n",
       " (1, 0, 0),\n",
       " (1, 0, 1),\n",
       " (1, 1, 0),\n",
       " (1, 1, 1)}"
      ]
     },
     "execution_count": 7,
     "metadata": {},
     "output_type": "execute_result"
    }
   ],
   "source": [
    "def arangement(design):\n",
    "    return set(reduce(union_, list(set(permutations(x)) for x in list(combinations_with_replacement([0,1], len(design))))))\n",
    "\n",
    "#exemple\n",
    "design = 'ant'\n",
    "arangement(design)"
   ]
  },
  {
   "cell_type": "code",
   "execution_count": 8,
   "id": "508350f4-466c-4b16-886e-3d50f77975d7",
   "metadata": {},
   "outputs": [
    {
     "name": "stderr",
     "output_type": "stream",
     "text": [
      "100%|████████████████████████████████████████████████████████████████████████████████████| 5/5 [00:21<00:00,  4.32s/it]\n"
     ]
    },
    {
     "data": {
      "text/plain": [
       "5"
      ]
     },
     "execution_count": 8,
     "metadata": {},
     "output_type": "execute_result"
    }
   ],
   "source": [
    "score = 0\n",
    "#designs = ['brwrr', 'bggr', 'gbbr', 'rrbgbr', 'ubwu', 'bwurrg', 'brgr', 'bbrgwb']\n",
    "for design in tqdm(designs):\n",
    "    #print(design)\n",
    "    arangements = arangement(design)-{tuple((len(design))*[0])}\n",
    "    for combi in arangements:\n",
    "        #print('le slice : ', sliced_design_set(combi, design))\n",
    "        if sliced_design_set(combi, design) == 'no split':\n",
    "            continue\n",
    "        \n",
    "        elif sliced_design_set(combi, design) - patterns == set():\n",
    "           #print('sliced_design_set(combi, [design] : ',sliced_design_set(combi, design))\n",
    "           score += 1\n",
    "           break\n",
    "# TROP LENT. MAIS LE SAMPLE EST OK\n",
    "score        "
   ]
  }
 ],
 "metadata": {
  "kernelspec": {
   "display_name": "Python 3 (ipykernel)",
   "language": "python",
   "name": "python3"
  },
  "language_info": {
   "codemirror_mode": {
    "name": "ipython",
    "version": 3
   },
   "file_extension": ".py",
   "mimetype": "text/x-python",
   "name": "python",
   "nbconvert_exporter": "python",
   "pygments_lexer": "ipython3",
   "version": "3.9.13"
  }
 },
 "nbformat": 4,
 "nbformat_minor": 5
}
