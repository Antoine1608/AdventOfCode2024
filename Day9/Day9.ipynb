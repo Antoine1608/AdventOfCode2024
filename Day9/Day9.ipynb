{
 "cells": [
  {
   "cell_type": "code",
   "execution_count": 1,
   "id": "def9622f-ef4f-4fa7-8007-878a1131e123",
   "metadata": {},
   "outputs": [],
   "source": [
    "from collections import deque\n",
    "from tqdm import tqdm\n",
    "#import cprofile\n",
    "import logging\n",
    "logging.basicConfig(level=logging.DEBUG, format='%(asctime)s - %(levelname)s - %(message)s')"
   ]
  },
  {
   "cell_type": "code",
   "execution_count": 2,
   "id": "fe306fd0",
   "metadata": {},
   "outputs": [
    {
     "data": {
      "text/plain": [
       "'2333133121414131402'"
      ]
     },
     "execution_count": 2,
     "metadata": {},
     "output_type": "execute_result"
    }
   ],
   "source": [
    "with open(r\"C:\\Users\\John\\Desktop\\AdventOfCode2024\\Day9\\Sample.txt\") as f:\n",
    "    input = f.read()\\\n",
    "             .strip(',')\n",
    "\n",
    "input"
   ]
  },
  {
   "cell_type": "code",
   "execution_count": 3,
   "id": "93cd8d16",
   "metadata": {},
   "outputs": [
    {
     "data": {
      "text/plain": [
       "'2...3...1...3.2.4.4.3.42'"
      ]
     },
     "execution_count": 3,
     "metadata": {},
     "output_type": "execute_result"
    }
   ],
   "source": [
    "# Transformation space-block\n",
    "# 1 - Pour chaque index impair de l'input remplacer par la valeur de l'input à l'index par valeur x '.'\n",
    "transformed_1_input = ''.join(['.'*int(input[i]) if i % 2 != 0 else input[i] for i in range(len(input))])\n",
    "transformed_1_input\n"
   ]
  },
  {
   "cell_type": "code",
   "execution_count": 5,
   "id": "d546939a",
   "metadata": {},
   "outputs": [
    {
     "data": {
      "text/plain": [
       "{0: 0,\n",
       " 1: 0,\n",
       " 2: '.',\n",
       " 3: '.',\n",
       " 4: '.',\n",
       " 5: 1,\n",
       " 6: 1,\n",
       " 7: 1,\n",
       " 8: '.',\n",
       " 9: '.',\n",
       " 10: '.',\n",
       " 11: 2,\n",
       " 12: '.',\n",
       " 13: '.',\n",
       " 14: '.',\n",
       " 15: 3,\n",
       " 16: 3,\n",
       " 17: 3,\n",
       " 18: '.',\n",
       " 19: 4,\n",
       " 20: 4,\n",
       " 21: '.',\n",
       " 22: 5,\n",
       " 23: 5,\n",
       " 24: 5,\n",
       " 25: 5,\n",
       " 26: '.',\n",
       " 27: 6,\n",
       " 28: 6,\n",
       " 29: 6,\n",
       " 30: 6,\n",
       " 31: '.',\n",
       " 32: 7,\n",
       " 33: 7,\n",
       " 34: 7,\n",
       " 35: '.',\n",
       " 36: 8,\n",
       " 37: 8,\n",
       " 38: 8,\n",
       " 39: 8,\n",
       " 40: 9,\n",
       " 41: 9}"
      ]
     },
     "execution_count": 5,
     "metadata": {},
     "output_type": "execute_result"
    }
   ],
   "source": [
    "# version_2 : 2 - pour chaque chiffre de transformed_1_input dupliquer l'index du chiffre par la valeur du chiffre\n",
    "transformed_2_input = {}\n",
    "idx = 0\n",
    "i = 0\n",
    "for x in transformed_1_input:\n",
    "    #print(x)\n",
    "\n",
    "    if x.isdigit():\n",
    "        for j in range(int(x)):\n",
    "            #print(x)\n",
    "            transformed_2_input[idx] = i\n",
    "            idx += 1\n",
    "        i += 1\n",
    "    else:\n",
    "        transformed_2_input[idx] = '.'\n",
    "        idx += 1\n",
    "transformed_2_input"
   ]
  },
  {
   "cell_type": "code",
   "execution_count": 6,
   "id": "30a311fb",
   "metadata": {},
   "outputs": [],
   "source": [
    "# version_3\n",
    "transformed_3_input = deque(transformed_2_input)"
   ]
  },
  {
   "cell_type": "code",
   "execution_count": 7,
   "id": "ba61ab12",
   "metadata": {},
   "outputs": [],
   "source": [
    "# version_4\n",
    "transformed_3_input = deque(transformed_2_input.values())\n"
   ]
  },
  {
   "cell_type": "code",
   "execution_count": 8,
   "id": "aa33556d",
   "metadata": {},
   "outputs": [],
   "source": [
    "# version_3 et 4\n",
    "transformed_4_input = deque()\n",
    "while len(transformed_3_input) > 0:\n",
    "    x = transformed_3_input.popleft()\n",
    "    if x != '.':\n",
    "        transformed_4_input.append(x)\n",
    "    else:\n",
    "        while True:\n",
    "            y = transformed_3_input.pop()\n",
    "            if y != '.':\n",
    "                transformed_4_input.append(y)\n",
    "                break\n",
    "            else:    \n",
    "                continue"
   ]
  },
  {
   "cell_type": "code",
   "execution_count": 9,
   "id": "323e1f87",
   "metadata": {},
   "outputs": [
    {
     "data": {
      "text/plain": [
       "1928"
      ]
     },
     "execution_count": 9,
     "metadata": {},
     "output_type": "execute_result"
    }
   ],
   "source": [
    "result = 0\n",
    "\n",
    "for idx, value in enumerate(transformed_4_input):\n",
    "    result += int(value) * idx\n",
    "    \n",
    "result "
   ]
  }
 ],
 "metadata": {
  "kernelspec": {
   "display_name": "newvenv",
   "language": "python",
   "name": "newvenv"
  },
  "language_info": {
   "codemirror_mode": {
    "name": "ipython",
    "version": 3
   },
   "file_extension": ".py",
   "mimetype": "text/x-python",
   "name": "python",
   "nbconvert_exporter": "python",
   "pygments_lexer": "ipython3",
   "version": "3.10.0"
  }
 },
 "nbformat": 4,
 "nbformat_minor": 5
}
