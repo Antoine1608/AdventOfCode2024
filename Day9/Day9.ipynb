{
 "cells": [
  {
   "cell_type": "code",
   "execution_count": 6,
   "id": "def9622f-ef4f-4fa7-8007-878a1131e123",
   "metadata": {},
   "outputs": [],
   "source": [
    "import pandas as pd\n",
    "import numpy as np\n",
    "from itertools import chain"
   ]
  },
  {
   "cell_type": "raw",
   "id": "a5ba0d24-fc31-433a-a861-4e68fe21d080",
   "metadata": {},
   "source": [
    "get input\n",
    "replace characters by their index multiplied by their value when index are even and by a dot when they are odd\n",
    "iterate through dots\n",
    "    replace dot by last character\n",
    "    replace last character by a dot\n",
    "    stop when there is no more dot\n",
    "sum numbers multiplied by their index\n",
    "    "
   ]
  },
  {
   "cell_type": "code",
   "execution_count": 19,
   "id": "c4bf1c10-4b34-4fcc-80ce-dcc9a4981b9b",
   "metadata": {},
   "outputs": [],
   "source": [
    "# get input\n",
    "with open(\"Sample.txt\") as file:\n",
    "    input = file.read().strip(',')"
   ]
  },
  {
   "cell_type": "code",
   "execution_count": 20,
   "id": "5fe8d74b-87b2-4427-bb3e-04ec6c213715",
   "metadata": {},
   "outputs": [],
   "source": [
    "# replace characters by their index multiplied by their value when index are even and by a dot when they are odd\n",
    "input = list(chain(*[[int(x/2)] * int(input[x]) if x % 2 == 0 else '.' * int(input[x]) for x in range(len(input))]))"
   ]
  }
 ],
 "metadata": {
  "kernelspec": {
   "display_name": "Python 3 (ipykernel)",
   "language": "python",
   "name": "python3"
  },
  "language_info": {
   "codemirror_mode": {
    "name": "ipython",
    "version": 3
   },
   "file_extension": ".py",
   "mimetype": "text/x-python",
   "name": "python",
   "nbconvert_exporter": "python",
   "pygments_lexer": "ipython3",
   "version": "3.9.13"
  }
 },
 "nbformat": 4,
 "nbformat_minor": 5
}
