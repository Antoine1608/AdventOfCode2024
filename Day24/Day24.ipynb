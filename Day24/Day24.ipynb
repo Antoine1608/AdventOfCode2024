{
 "cells": [
  {
   "cell_type": "code",
   "execution_count": 1,
   "id": "0a5379d6-3e45-4948-961b-b7fd44209513",
   "metadata": {},
   "outputs": [],
   "source": [
    "from itertools import chain"
   ]
  },
  {
   "cell_type": "code",
   "execution_count": 2,
   "id": "b6abd1f9-875b-4f37-8085-a8205e1dd891",
   "metadata": {},
   "outputs": [],
   "source": [
    "with open(\"Input.txt\") as f:\n",
    "    input = f.read().split('\\n')\n",
    "wv = [x for x in input  if ('->' not in x and x != '')]\n",
    "gc = [x for x in input if ('->' in x and x != '')]                           "
   ]
  },
  {
   "cell_type": "code",
   "execution_count": 3,
   "id": "78e4835c-17fa-4a44-9d01-13486600136f",
   "metadata": {},
   "outputs": [],
   "source": [
    "n_z = len({x for x in list(chain.from_iterable([gc[i].split() for i in range(len(gc))])) if x.startswith('z')})"
   ]
  },
  {
   "cell_type": "code",
   "execution_count": 4,
   "id": "4c390d0e-be65-41e9-9185-053dc51dc9fd",
   "metadata": {},
   "outputs": [],
   "source": [
    "wv_in = {x[0:3] : int(x[-1]) for x in wv}\n",
    "wv_z = {}"
   ]
  },
  {
   "cell_type": "code",
   "execution_count": 5,
   "id": "feb396cb-81b8-482a-8fbd-dc631c549fc4",
   "metadata": {},
   "outputs": [
    {
     "name": "stdout",
     "output_type": "stream",
     "text": [
      "1\n",
      "1\n",
      "0\n"
     ]
    }
   ],
   "source": [
    "def OR_(a, b):\n",
    "    return (a or b)\n",
    "\n",
    "# exemple :\n",
    "print (OR_(1, 1))\n",
    "print (OR_(0, 1))\n",
    "print (OR_(0, 0))"
   ]
  },
  {
   "cell_type": "code",
   "execution_count": 6,
   "id": "075c6041-24e7-4e93-a111-d5ef48a1f116",
   "metadata": {},
   "outputs": [
    {
     "name": "stdout",
     "output_type": "stream",
     "text": [
      "1\n",
      "0\n",
      "0\n"
     ]
    }
   ],
   "source": [
    "def AND_(a, b):\n",
    "    return (a and b)\n",
    "\n",
    "# exemple :\n",
    "print (AND_(1, 1))\n",
    "print (AND_(0, 1))\n",
    "print (AND_(0, 0))"
   ]
  },
  {
   "cell_type": "code",
   "execution_count": 7,
   "id": "7c291f6c-e672-4637-9e2f-4e53afd25346",
   "metadata": {},
   "outputs": [
    {
     "name": "stdout",
     "output_type": "stream",
     "text": [
      "0\n",
      "1\n",
      "0\n"
     ]
    }
   ],
   "source": [
    "def XOR_(a, b):\n",
    "    return OR_(a, b) - AND_(a, b)\n",
    "\n",
    "# exemple :\n",
    "print (XOR_(1, 1))\n",
    "print (XOR_(0, 1))\n",
    "print (XOR_(0, 0))"
   ]
  },
  {
   "cell_type": "code",
   "execution_count": 8,
   "id": "ee9f4a52-e77c-4822-84a4-16d83fb605c9",
   "metadata": {},
   "outputs": [],
   "source": [
    "dic = {'OR' : OR_, 'AND' : AND_, 'XOR' : XOR_}"
   ]
  },
  {
   "cell_type": "code",
   "execution_count": 9,
   "id": "eaee46ee-bf2c-42db-9082-d8308eb1ae21",
   "metadata": {},
   "outputs": [
    {
     "data": {
      "text/plain": [
       "({'hsh': 0,\n",
       "  'cpt': 1,\n",
       "  'msm': 0,\n",
       "  'mtd': 0,\n",
       "  'pcq': 0,\n",
       "  'fvv': 1,\n",
       "  'vmj': 1,\n",
       "  'gnt': 0,\n",
       "  'jrk': 0,\n",
       "  'hjc': 1,\n",
       "  'gdw': 1,\n",
       "  'dsm': 0,\n",
       "  'qmh': 1,\n",
       "  'nhq': 0,\n",
       "  'shr': 1,\n",
       "  'jdw': 1,\n",
       "  'fqs': 0,\n",
       "  'kvn': 0,\n",
       "  'rqd': 1,\n",
       "  'knv': 0,\n",
       "  'nwp': 1,\n",
       "  'dtp': 0,\n",
       "  'skg': 1,\n",
       "  'dmf': 1,\n",
       "  'smc': 1,\n",
       "  'spm': 0,\n",
       "  'tmt': 0,\n",
       "  'npn': 0,\n",
       "  'wfh': 1,\n",
       "  'bsk': 1,\n",
       "  'ckm': 1,\n",
       "  'grf': 0,\n",
       "  'hgj': 0,\n",
       "  'prv': 1,\n",
       "  'rrr': 0,\n",
       "  'vbm': 1,\n",
       "  'hsj': 0,\n",
       "  'thq': 1,\n",
       "  'z00': 0,\n",
       "  'whh': 0,\n",
       "  'pfr': 0,\n",
       "  'rnw': 1,\n",
       "  'fsf': 0,\n",
       "  'qjc': 0,\n",
       "  'sbs': 0,\n",
       "  'z36': 0,\n",
       "  'pvd': 0,\n",
       "  'ppj': 1,\n",
       "  'bnv': 1,\n",
       "  'jqn': 0,\n",
       "  'jpq': 1,\n",
       "  'vvt': 0,\n",
       "  'qcq': 0,\n",
       "  'htp': 1,\n",
       "  'dtt': 0,\n",
       "  'bqc': 1,\n",
       "  'rtt': 0,\n",
       "  'tdg': 0,\n",
       "  'ddf': 1,\n",
       "  'wpq': 0,\n",
       "  'ndj': 1,\n",
       "  'mhf': 1,\n",
       "  'tkd': 0,\n",
       "  'fdq': 0,\n",
       "  'fdk': 1,\n",
       "  'dqq': 0,\n",
       "  'cjb': 0,\n",
       "  'rmj': 0,\n",
       "  'fbm': 0,\n",
       "  'hmw': 0,\n",
       "  'rjb': 0,\n",
       "  'hwk': 0,\n",
       "  'qvr': 0,\n",
       "  'ftr': 0,\n",
       "  'hrd': 0,\n",
       "  'jqg': 0,\n",
       "  'svf': 1,\n",
       "  'nct': 1,\n",
       "  'rvn': 0,\n",
       "  'dcn': 1,\n",
       "  'djh': 1,\n",
       "  'gpc': 0,\n",
       "  'vsm': 0,\n",
       "  'rqp': 1,\n",
       "  'bjg': 0,\n",
       "  'gbn': 0,\n",
       "  'svb': 1,\n",
       "  'kjd': 0,\n",
       "  'vmf': 0,\n",
       "  'kvm': 0},\n",
       " {'z00': 0, 'z36': 0})"
      ]
     },
     "execution_count": 9,
     "metadata": {},
     "output_type": "execute_result"
    }
   ],
   "source": [
    "def func(wv_in_):\n",
    "    wv_out_ = {}\n",
    "    wv_z_ = {}\n",
    "    for x in gc:\n",
    "        try:\n",
    "            w1 = int(wv_in_[x.split(' ')[0]])\n",
    "            g = x.split(' ')[1]\n",
    "            w2 = int(wv_in_[x.split(' ')[2]])\n",
    "            w3 = x.split(' ')[4]\n",
    "            wv_out_[w3] = dic[g](w1, w2)\n",
    "            if w3.startswith('z'):\n",
    "                wv_z_[w3] = dic[g](w1, w2)\n",
    "        except:\n",
    "            continue\n",
    "    return wv_out_, wv_z_\n",
    "\n",
    "# exemple:    \n",
    "func(wv_in)"
   ]
  },
  {
   "cell_type": "code",
   "execution_count": 10,
   "id": "4694b58f-615f-4a89-9edd-2c54844f0788",
   "metadata": {},
   "outputs": [],
   "source": [
    "i = 0\n",
    "wv_z = {}\n",
    "while len(wv_z) < n_z:\n",
    "    wv_in.update(func(wv_in)[0])\n",
    "    if any([x.startswith('z') for x in wv_in]):\n",
    "        wv_z.update({k : v  for k,v in wv_in.items() if k.startswith('z')})\n",
    "    i += 1"
   ]
  },
  {
   "cell_type": "code",
   "execution_count": 11,
   "id": "32fb9be8-212f-4143-9997-4e9da21e0c22",
   "metadata": {},
   "outputs": [
    {
     "data": {
      "text/plain": [
       "55730288838374"
      ]
     },
     "execution_count": 11,
     "metadata": {},
     "output_type": "execute_result"
    }
   ],
   "source": [
    "wv_z = [wv_z[x] for x in sorted(wv_z)][::-1]\n",
    "wv_z = ''.join([str(x) for x in wv_z])\n",
    "int(wv_z, 2)\n",
    "# Correct answer 55730288838374"
   ]
  }
 ],
 "metadata": {
  "kernelspec": {
   "display_name": "Python 3 (ipykernel)",
   "language": "python",
   "name": "python3"
  },
  "language_info": {
   "codemirror_mode": {
    "name": "ipython",
    "version": 3
   },
   "file_extension": ".py",
   "mimetype": "text/x-python",
   "name": "python",
   "nbconvert_exporter": "python",
   "pygments_lexer": "ipython3",
   "version": "3.9.13"
  }
 },
 "nbformat": 4,
 "nbformat_minor": 5
}
