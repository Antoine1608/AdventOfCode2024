{
 "cells": [
  {
   "cell_type": "code",
   "execution_count": 1,
   "id": "50dc684b-677a-42e3-9860-0cd3353569d0",
   "metadata": {},
   "outputs": [],
   "source": [
    "import numpy as np"
   ]
  },
  {
   "cell_type": "code",
   "execution_count": 2,
   "id": "35ced999-cb86-469f-9b2a-9cccd3c3c1b0",
   "metadata": {},
   "outputs": [],
   "source": [
    "with open(\"Input.txt\") as f:\n",
    "    input = f.read().split('\\n')"
   ]
  },
  {
   "cell_type": "code",
   "execution_count": 3,
   "id": "9fd01d72-ebcf-491d-8010-f0847b19fb95",
   "metadata": {},
   "outputs": [],
   "source": [
    "keys = []\n",
    "locks = []\n",
    "i = 0\n",
    "while i < len(input):\n",
    "    l = []\n",
    "    x = 'x'\n",
    "    while  input[i] != '':\n",
    "        l.append(input[i])\n",
    "        i += 1\n",
    "        if i == len(input):\n",
    "            break\n",
    "    if any([x != '#' for x in l[0]]):  \n",
    "        keys.append(l)\n",
    "    else:\n",
    "        locks.append(l)\n",
    "    i +=1"
   ]
  },
  {
   "cell_type": "code",
   "execution_count": 4,
   "id": "df43bfc0-8436-48da-8b46-f8c7548473ed",
   "metadata": {},
   "outputs": [],
   "source": [
    "lk = len(keys)\n",
    "lki = len(keys[0])\n",
    "dk = {key : lki*[0] for key in range(lk)}\n",
    "for i in range(lk):\n",
    "    k = lki*[0]\n",
    "    for j in range(lki):\n",
    "        for n in range(len(keys[i][j])):\n",
    "            if keys[i][j][n] == '#':\n",
    "                k[n] += 1\n",
    "        dk[i] = k"
   ]
  },
  {
   "cell_type": "code",
   "execution_count": 5,
   "id": "9378e0ad-58df-4489-8cee-2cfa972899d2",
   "metadata": {},
   "outputs": [],
   "source": [
    "ll = len(locks)\n",
    "lli = len(locks[0])\n",
    "dl = {key : lli*[0] for key in range(ll)}\n",
    "for i in range(ll):\n",
    "    l = lli*[0]\n",
    "    for j in range(lli):\n",
    "        for n in range(len(locks[i][j])):\n",
    "            if locks[i][j][n] == '#':\n",
    "                l[n] += 1\n",
    "        dl[i] = l"
   ]
  },
  {
   "cell_type": "code",
   "execution_count": 6,
   "id": "90036351-f5e1-4ec0-9ab7-e5bef9f19e8d",
   "metadata": {},
   "outputs": [],
   "source": [
    "@np.vectorize\n",
    "def add_(a, b):\n",
    "    return a + b"
   ]
  },
  {
   "cell_type": "code",
   "execution_count": 7,
   "id": "32f5b710-e642-4621-961b-86729b8d298f",
   "metadata": {},
   "outputs": [
    {
     "data": {
      "text/plain": [
       "2824"
      ]
     },
     "execution_count": 7,
     "metadata": {},
     "output_type": "execute_result"
    }
   ],
   "source": [
    "m = 0\n",
    "for k in dk.values():\n",
    "    for l in dl.values():\n",
    "        if all([x < 8 for x in add_(k, l)]):\n",
    "            m +=1\n",
    "m\n",
    "# 2824"
   ]
  }
 ],
 "metadata": {
  "kernelspec": {
   "display_name": "Python 3 (ipykernel)",
   "language": "python",
   "name": "python3"
  },
  "language_info": {
   "codemirror_mode": {
    "name": "ipython",
    "version": 3
   },
   "file_extension": ".py",
   "mimetype": "text/x-python",
   "name": "python",
   "nbconvert_exporter": "python",
   "pygments_lexer": "ipython3",
   "version": "3.9.13"
  }
 },
 "nbformat": 4,
 "nbformat_minor": 5
}
