{
 "cells": [
  {
   "cell_type": "raw",
   "id": "0fce0066-384b-442a-bae9-94254876a177",
   "metadata": {},
   "source": [
    "get input\n",
    "for every letter in input\n",
    "    for every line\n",
    "        separate the groups in the line\n",
    "        save them in a group_dict\n",
    "        initiate a first empty previous_group_dict and an empty new_group_dict\n",
    "        for each group in group_dict\n",
    "            for each previous_group in previous_group_dict\n",
    "                check if the intersection of each group in group_dict and each group in previous line in previous_group_dict is not empty\n",
    "                if it's the case merge the two groups in a new_group_dict\n",
    "                else add the group to the new_group_dict\n",
    "            previous_group_dict becomes new_group_dict"
   ]
  },
  {
   "cell_type": "code",
   "execution_count": null,
   "id": "4409f6e3-73e1-4ed5-bfa7-69894c6e8660",
   "metadata": {},
   "outputs": [],
   "source": []
  }
 ],
 "metadata": {
  "kernelspec": {
   "display_name": "Python 3 (ipykernel)",
   "language": "python",
   "name": "python3"
  },
  "language_info": {
   "codemirror_mode": {
    "name": "ipython",
    "version": 3
   },
   "file_extension": ".py",
   "mimetype": "text/x-python",
   "name": "python",
   "nbconvert_exporter": "python",
   "pygments_lexer": "ipython3",
   "version": "3.9.13"
  }
 },
 "nbformat": 4,
 "nbformat_minor": 5
}
