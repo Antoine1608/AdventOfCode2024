{
 "cells": [
  {
   "cell_type": "code",
   "execution_count": 1,
   "id": "7a2d9dd9-5802-4c0e-832b-4ee727850fc9",
   "metadata": {},
   "outputs": [],
   "source": [
    "with open(\"Input.txt\") as f:\n",
    "    input = list(f.read().split('\\n'))\n",
    "    input = [{x[0:2],x[3:6]} for x in input]\n",
    "    f.close()"
   ]
  },
  {
   "cell_type": "code",
   "execution_count": 2,
   "id": "f7206ca8-cec5-4110-a813-5f05ba3390f6",
   "metadata": {},
   "outputs": [],
   "source": [
    "l = []\n",
    "for S1 in [s1 for s1 in input if any([x.startswith('t') for x in s1])]:\n",
    "    for A1 in [x for x in S1 if x.startswith('t')]:\n",
    "        B1 = [x for x in S1 if x != A1][0]\n",
    "        for S2 in [s2 for s2 in [s for s in input if s != S1] if any([x == A1 for x in s2])]:\n",
    "            B2 = [x for x in S2 if x != A1][0]\n",
    "            for S3 in [s3 for s3 in [s for s in input if (s!= S1 and s != S2)] if any([x == B1 for x in s3]) and any([x == B2 for x in s3])]:\n",
    "                l.append(S1|S2|S3)"
   ]
  },
  {
   "cell_type": "code",
   "execution_count": 3,
   "id": "083ef484-4e18-49c8-bbf6-e514f64be115",
   "metadata": {},
   "outputs": [
    {
     "data": {
      "text/plain": [
       "1485"
      ]
     },
     "execution_count": 3,
     "metadata": {},
     "output_type": "execute_result"
    }
   ],
   "source": [
    "n =[]\n",
    "for x in l:\n",
    "    if x not in n:\n",
    "        n.append(x) \n",
    "len(n)"
   ]
  }
 ],
 "metadata": {
  "kernelspec": {
   "display_name": "Python 3 (ipykernel)",
   "language": "python",
   "name": "python3"
  },
  "language_info": {
   "codemirror_mode": {
    "name": "ipython",
    "version": 3
   },
   "file_extension": ".py",
   "mimetype": "text/x-python",
   "name": "python",
   "nbconvert_exporter": "python",
   "pygments_lexer": "ipython3",
   "version": "3.9.13"
  }
 },
 "nbformat": 4,
 "nbformat_minor": 5
}
