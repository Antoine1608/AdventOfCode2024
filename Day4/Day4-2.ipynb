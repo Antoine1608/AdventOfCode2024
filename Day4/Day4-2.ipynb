{
 "cells": [
  {
   "cell_type": "code",
   "execution_count": 1,
   "id": "8bcfe1ee-1cc5-4487-b7cd-cdc78362b28d",
   "metadata": {},
   "outputs": [],
   "source": [
    "from icecream import ic\n",
    "ic.disable()"
   ]
  },
  {
   "cell_type": "code",
   "execution_count": 2,
   "id": "2757d7ba-6d0d-4d07-815a-a669927d65e8",
   "metadata": {},
   "outputs": [],
   "source": [
    "with open (\"Input.txt\") as f:\n",
    "    input = f.read().split('\\n')"
   ]
  },
  {
   "cell_type": "code",
   "execution_count": 3,
   "id": "e370b9db-6c31-4648-bf6a-4bd3514b8278",
   "metadata": {},
   "outputs": [
    {
     "data": {
      "text/plain": [
       "1974"
      ]
     },
     "execution_count": 3,
     "metadata": {},
     "output_type": "execute_result"
    }
   ],
   "source": [
    "s = 0\n",
    "for r in range(len(input)):\n",
    "    for c in range(len(input[r])):\n",
    "        if input[r][c] == 'A' and r - 1 >=0 and r + 1 <= len(input) - 1 and c - 1 >=0 and c + 1 <= len(input[0]) - 1:\n",
    "            if input[r+1][c+1] == 'M' and input[r-1][c+1] == 'M' and input[r-1][c-1] == 'S' and input[r+1][c-1] == 'S':            \n",
    "                s += 1\n",
    "            if input[r+1][c+1] == 'S' and input[r-1][c+1] == 'S' and input[r-1][c-1] == 'M' and input[r+1][c-1] == 'M':\n",
    "                s += 1\n",
    "            if input[r+1][c+1] == 'M' and input[r-1][c+1] == 'S' and input[r-1][c-1] == 'S' and input[r+1][c-1] == 'M':              \n",
    "                s += 1\n",
    "            if input[r+1][c+1] == 'S' and input[r-1][c+1] == 'M' and input[r-1][c-1] == 'M' and input[r+1][c-1] == 'S':\n",
    "                s += 1\n",
    "s\n",
    "#1974"
   ]
  }
 ],
 "metadata": {
  "kernelspec": {
   "display_name": "Python 3 (ipykernel)",
   "language": "python",
   "name": "python3"
  },
  "language_info": {
   "codemirror_mode": {
    "name": "ipython",
    "version": 3
   },
   "file_extension": ".py",
   "mimetype": "text/x-python",
   "name": "python",
   "nbconvert_exporter": "python",
   "pygments_lexer": "ipython3",
   "version": "3.9.13"
  }
 },
 "nbformat": 4,
 "nbformat_minor": 5
}
