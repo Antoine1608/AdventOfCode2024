{
 "cells": [
  {
   "cell_type": "code",
   "execution_count": 1,
   "id": "dd90d6a4-8028-4776-b1d7-594c571fc206",
   "metadata": {},
   "outputs": [],
   "source": [
    "import re\n",
    "from itertools import chain"
   ]
  },
  {
   "cell_type": "code",
   "execution_count": 2,
   "id": "59ac0cb5-802a-4d1e-a29a-c6bc441d405d",
   "metadata": {},
   "outputs": [],
   "source": [
    "with open(\"Input.txt\") as f:\n",
    "    input = f.read().split('\\n')\n",
    "    data = [len(input)*'#' + x + len(input)*'#' for x in input]"
   ]
  },
  {
   "cell_type": "code",
   "execution_count": 3,
   "id": "5213784d-a7fc-4ec2-bbe4-58ccd98128f3",
   "metadata": {},
   "outputs": [],
   "source": [
    "def score_(data_):\n",
    "    return len(list(chain.from_iterable([re.findall(r\"XMAS\", data_[i]) for i in range(len(data_))]))) + \\\n",
    "           len(list(chain.from_iterable([re.findall(r\"SAMX\", data_[i]) for i in range(len(data_))])))"
   ]
  },
  {
   "cell_type": "code",
   "execution_count": 4,
   "id": "7a5683e2-7648-4c58-ae59-dfd92eb431a5",
   "metadata": {},
   "outputs": [],
   "source": [
    "data_col = [''.join(x) for x in list((zip(*data)))]\n",
    "data_diag_1 = [''.join([data[r][r+c] for r in range(len(input))]) for c in range(len(input)+len(input[0]))]\n",
    "data_diag_2 = [''.join([[x[::-1] for x in data][r][r+c] for r in range(len(input))]) for c in range(len(input)+len(input[0]))]"
   ]
  },
  {
   "cell_type": "code",
   "execution_count": 5,
   "id": "dbcb9e2c-cb21-480b-a526-69b97fbf7767",
   "metadata": {},
   "outputs": [
    {
     "data": {
      "text/plain": [
       "2642"
      ]
     },
     "execution_count": 5,
     "metadata": {},
     "output_type": "execute_result"
    }
   ],
   "source": [
    "score = 0\n",
    "for d in [data, data_col, data_diag_1, data_diag_2]:\n",
    "    score += score_(d)\n",
    "score\n",
    "# 2642"
   ]
  }
 ],
 "metadata": {
  "kernelspec": {
   "display_name": "Python 3 (ipykernel)",
   "language": "python",
   "name": "python3"
  },
  "language_info": {
   "codemirror_mode": {
    "name": "ipython",
    "version": 3
   },
   "file_extension": ".py",
   "mimetype": "text/x-python",
   "name": "python",
   "nbconvert_exporter": "python",
   "pygments_lexer": "ipython3",
   "version": "3.9.13"
  }
 },
 "nbformat": 4,
 "nbformat_minor": 5
}
