{
 "cells": [
  {
   "cell_type": "raw",
   "id": "7cd02e30-3b4d-47ab-b5d3-46e90a8341c4",
   "metadata": {},
   "source": [
    "get input\n",
    "initiate input as blink_list\n",
    "and an empty new_blink_list\n",
    "while the number of blink is not 50\n",
    "    iterate through the blink_list by\n",
    "    checking for each stone\n",
    "        if condition zero is filled :\n",
    "            add 1 to new_blink_list\n",
    "        if condition even is filled\n",
    "            add first part and last part of stone to blink list\n",
    "            make sure last part is not just several zeroes\n",
    "        else \n",
    "            multiply stone by 2024 and add to blink_list\n",
    "    when iteration done add 1 to blink and blink_list becomes new_blink_list\n",
    "when blink reach 50 add all element of blink_list and display"
   ]
  },
  {
   "cell_type": "code",
   "execution_count": 1,
   "id": "6914be53-d55f-4cb5-8616-8cfd4f80d26c",
   "metadata": {},
   "outputs": [],
   "source": [
    "import pandas as pd\n",
    "import numpy as np\n",
    "from tqdm import tqdm\n",
    "from time import time"
   ]
  },
  {
   "cell_type": "code",
   "execution_count": 2,
   "id": "510206fe-2489-4f71-b30c-bbbeb95f5945",
   "metadata": {},
   "outputs": [
    {
     "data": {
      "text/plain": [
       "[125, 17]"
      ]
     },
     "execution_count": 2,
     "metadata": {},
     "output_type": "execute_result"
    }
   ],
   "source": [
    "# get input\n",
    "with open(\"Sample.txt\") as file:\n",
    "    input = [int(x) for x in file.read().split(' ')]\n",
    "input"
   ]
  },
  {
   "cell_type": "code",
   "execution_count": 3,
   "id": "b9e8f968-1a3c-4035-a21c-bce54f474e5b",
   "metadata": {},
   "outputs": [],
   "source": [
    "# initiate input as blink_list\n",
    "blink_list = input\n",
    "# and an empty new_blink_list\n",
    "new_blink_list = []"
   ]
  },
  {
   "cell_type": "raw",
   "id": "27d054f3-edc2-4fd9-9d9c-04099cdd6a74",
   "metadata": {},
   "source": [
    "# while the number of blink is not 50\n",
    "blink = 0\n",
    "while blink < 1:\n",
    "#    iterate through the blink_list by\n",
    "    for stone in blink_list:\n",
    "#    checking for each stone\n",
    "#        if condition zero is filled :\n",
    "        if stone == 0 :\n",
    "            new_blink_list.append(0)\n",
    "#            add 1 to new_blink_list\n",
    "#        if condition even is filled\n",
    "        elif len(str(stone)) % 2 == 0:\n",
    "#            add first part and last part of stone to blink list\n",
    "#            make sure last part is not just several zeroes\n",
    "            stone_1 = int(''.join([str(stone)[i] for i in range(int(len(str(stone))/2))]))\n",
    "            stone_2 = int(''.join([str(stone)[i] for i in range(int(len(str(stone))/2),int(len(str(stone))))]))\n",
    "            new_blink_list.append(stone_1)\n",
    "            new_blink_list.append(stone_2)\n",
    "#        else \n",
    "        else:\n",
    "            new_blink_list.append(2024*stone)\n",
    "#            multiply stone by 2024 and add to blink_list\n",
    "#    when iteration done add 1 to blink and blink_list becomes new_blink_list\n",
    "    blink += 1\n",
    "    print(blink)\n",
    "    blink_list = new_blink_list\n",
    "# when blink reach 50 add all element of blink_list and display\n",
    "sum(blink_list)"
   ]
  },
  {
   "cell_type": "code",
   "execution_count": null,
   "id": "e67e46b7-ca92-4b1f-af29-fbe33eb9847e",
   "metadata": {},
   "outputs": [
    {
     "name": "stderr",
     "output_type": "stream",
     "text": [
      "IOPub data rate exceeded.\n",
      "The Jupyter server will temporarily stop sending output\n",
      "to the client in order to avoid crashing it.\n",
      "To change this limit, set the config variable\n",
      "`--ServerApp.iopub_data_rate_limit`.\n",
      "\n",
      "Current values:\n",
      "ServerApp.iopub_data_rate_limit=1000000.0 (bytes/sec)\n",
      "ServerApp.rate_limit_window=3.0 (secs)\n",
      "\n"
     ]
    }
   ],
   "source": [
    "# while the number of blink is not 50\n",
    "t1 = time()\n",
    "blink = 0\n",
    "while blink < 3:\n",
    "#    iterate through the blink_list by\n",
    "    for stone in blink_list:\n",
    "#    checking for each stone\n",
    "#        if condition zero is filled :\n",
    "        if stone == 0 :\n",
    "            new_blink_list.append(0)\n",
    "#            add 1 to new_blink_list\n",
    "#        if condition even is filled\n",
    "        elif len(str(stone)) % 2 == 0:\n",
    "#            add first part and last part of stone to blink list\n",
    "#            make sure last part is not just several zeroes\n",
    "            stone_1 = int(''.join([str(stone)[i] for i in range(int(len(str(stone))/2))]))\n",
    "            stone_2 = int(''.join([str(stone)[i] for i in range(int(len(str(stone))/2),int(len(str(stone))))]))\n",
    "            new_blink_list.append(stone_1)\n",
    "            new_blink_list.append(stone_2)\n",
    "#        else \n",
    "        else:\n",
    "            new_blink_list.append(2024*stone)\n",
    "            blink +=1\n",
    "#            multiply stone by 2024 and add to blink_list\n",
    "        print('new_blink_list : ', new_blink_list)\n",
    "#    when iteration done add 1 to blink and blink_list becomes new_blink_list\n",
    "    blink += 1\n",
    "    blink_list = new_blink_list\n",
    "# when blink reach 50 add all element of blink_list and display\n",
    "print(blink, ' blinks = ', time() - t1,'s - result : ',sum(blink_list))"
   ]
  }
 ],
 "metadata": {
  "kernelspec": {
   "display_name": "Python 3 (ipykernel)",
   "language": "python",
   "name": "python3"
  },
  "language_info": {
   "codemirror_mode": {
    "name": "ipython",
    "version": 3
   },
   "file_extension": ".py",
   "mimetype": "text/x-python",
   "name": "python",
   "nbconvert_exporter": "python",
   "pygments_lexer": "ipython3",
   "version": "3.9.13"
  }
 },
 "nbformat": 4,
 "nbformat_minor": 5
}
