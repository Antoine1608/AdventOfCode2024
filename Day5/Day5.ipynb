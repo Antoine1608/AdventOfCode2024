{
 "cells": [
  {
   "cell_type": "raw",
   "id": "3cddde1c-c59b-4d55-a114-e66a3625fbb2",
   "metadata": {},
   "source": [
    "get input and order rules\n",
    "for each line of input\n",
    "    match line with applicable rules\n",
    "    test line with applicable rules\n",
    "    if ok add the middle number to score\n",
    "display score"
   ]
  }
 ],
 "metadata": {
  "kernelspec": {
   "display_name": "Python 3 (ipykernel)",
   "language": "python",
   "name": "python3"
  },
  "language_info": {
   "codemirror_mode": {
    "name": "ipython",
    "version": 3
   },
   "file_extension": ".py",
   "mimetype": "text/x-python",
   "name": "python",
   "nbconvert_exporter": "python",
   "pygments_lexer": "ipython3",
   "version": "3.9.13"
  }
 },
 "nbformat": 4,
 "nbformat_minor": 5
}
