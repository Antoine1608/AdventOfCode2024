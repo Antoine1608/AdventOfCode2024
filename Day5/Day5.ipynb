{
 "cells": [
  {
   "cell_type": "code",
   "execution_count": 1,
   "id": "330a9964-c83f-4204-85a3-9ef69f3b97a7",
   "metadata": {},
   "outputs": [],
   "source": [
    "from itertools import product"
   ]
  },
  {
   "cell_type": "code",
   "execution_count": 2,
   "id": "db938ff8-85c8-4bf7-8173-a748f49f4f03",
   "metadata": {},
   "outputs": [],
   "source": [
    "# Part 1"
   ]
  },
  {
   "cell_type": "code",
   "execution_count": 3,
   "id": "de704210-3260-4c69-94c1-86b7ad808303",
   "metadata": {},
   "outputs": [],
   "source": [
    "with open(\"Input.txt\") as f:\n",
    "    Input = f.read().split('\\n')"
   ]
  },
  {
   "cell_type": "code",
   "execution_count": 4,
   "id": "b34e7d55-84c0-47af-9d19-f955a2d81c4a",
   "metadata": {},
   "outputs": [],
   "source": [
    "rules = [i.split('|') for i in Input if '|' in i]\n",
    "rules = [list(map(lambda x : int(x),rule)) for rule in rules]"
   ]
  },
  {
   "cell_type": "code",
   "execution_count": 5,
   "id": "b683b0dc-2750-4fcb-8ead-4835f4bbc109",
   "metadata": {},
   "outputs": [],
   "source": [
    "lines = [i.split(',') for i in Input if '|' not in i][1:]\n",
    "lines = [list(map(lambda x : int(x), pages)) for pages in lines]"
   ]
  },
  {
   "cell_type": "code",
   "execution_count": 6,
   "id": "4686cf4a-7cd8-45f2-af9d-9649dff36741",
   "metadata": {},
   "outputs": [],
   "source": [
    "pages_nok = []\n",
    "for pages, rule in product(lines, rules):\n",
    "    if rule[0] in pages and rule[1] in pages :\n",
    "        if pages.index(rule[0]) < pages.index(rule[1]):\n",
    "            pass\n",
    "        else:\n",
    "            if pages not in pages_nok:\n",
    "                pages_nok.append(pages)   \n",
    "        continue"
   ]
  },
  {
   "cell_type": "code",
   "execution_count": 8,
   "id": "6052dd35-cae1-41b0-bc71-bc886c0566f9",
   "metadata": {},
   "outputs": [],
   "source": [
    "pages_ok = [pages for pages in lines if pages not in pages_nok]"
   ]
  },
  {
   "cell_type": "code",
   "execution_count": 9,
   "id": "cc6111e1-5285-43da-a715-818d6396df7c",
   "metadata": {},
   "outputs": [
    {
     "data": {
      "text/plain": [
       "6051"
      ]
     },
     "execution_count": 9,
     "metadata": {},
     "output_type": "execute_result"
    }
   ],
   "source": [
    "s = sum([pages[(int(len(pages))//2)] for pages in pages_ok])\n",
    "s # 6051 !"
   ]
  },
  {
   "cell_type": "code",
   "execution_count": null,
   "id": "a73d4e48-f7d6-45f0-9465-3213542841eb",
   "metadata": {},
   "outputs": [],
   "source": [
    "# Part 2            "
   ]
  },
  {
   "cell_type": "code",
   "execution_count": 10,
   "id": "40a28004-21dc-4ef3-a146-47d6ae5fe1ac",
   "metadata": {},
   "outputs": [],
   "source": [
    "swap = 1\n",
    "while swap == 1:\n",
    "    swap = 0\n",
    "    for i, rule in product(range(len(pages_nok)), rules):\n",
    "        if rule[0] in pages_nok[i] and rule[1] in pages_nok[i]:\n",
    "            idx0 = pages_nok[i].index(rule[0])\n",
    "            idx1 = pages_nok[i].index(rule[1])\n",
    "            if idx0 > idx1:\n",
    "                pages_nok[i][idx0], pages_nok[i][idx1] = pages_nok[i][idx1], pages_nok[i][idx0]\n",
    "                swap = 1"
   ]
  },
  {
   "cell_type": "code",
   "execution_count": 11,
   "id": "812f4491-811f-4635-886b-0ba5ff07ea79",
   "metadata": {},
   "outputs": [
    {
     "data": {
      "text/plain": [
       "5093"
      ]
     },
     "execution_count": 11,
     "metadata": {},
     "output_type": "execute_result"
    }
   ],
   "source": [
    "s = sum([pages[(int(len(pages))//2)] for pages in pages_nok])\n",
    "s # 5093 !"
   ]
  }
 ],
 "metadata": {
  "kernelspec": {
   "display_name": "Python 3 (ipykernel)",
   "language": "python",
   "name": "python3"
  },
  "language_info": {
   "codemirror_mode": {
    "name": "ipython",
    "version": 3
   },
   "file_extension": ".py",
   "mimetype": "text/x-python",
   "name": "python",
   "nbconvert_exporter": "python",
   "pygments_lexer": "ipython3",
   "version": "3.9.13"
  }
 },
 "nbformat": 4,
 "nbformat_minor": 5
}
