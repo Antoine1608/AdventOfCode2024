{
 "cells": [
  {
   "cell_type": "code",
   "execution_count": 4,
   "id": "83795843-9a12-4bee-80f0-ad244307914c",
   "metadata": {},
   "outputs": [],
   "source": [
    "import pandas as pd\n",
    "import numpy as np\n",
    "from collections import Counter"
   ]
  },
  {
   "cell_type": "markdown",
   "id": "df55536e-999e-4e0a-b68f-a2fbb128628d",
   "metadata": {},
   "source": [
    "'''PART 1\n",
    "get the input\n",
    "get list_1 and list_2 from the input\n",
    "sort list_1 and list_2\n",
    "substract list_1 from list_2 into a list_3\n",
    "map list_3 to get only absolute values\n",
    "sum list_3'''"
   ]
  },
  {
   "cell_type": "code",
   "execution_count": 5,
   "id": "6baa5e2a-b1b9-4536-8b92-fd75766a51b7",
   "metadata": {},
   "outputs": [
    {
     "data": {
      "text/plain": [
       "<bound method NDFrame.head of          0   1   2      3\n",
       "0    31594 NaN NaN  93577\n",
       "1    46608 NaN NaN  24099\n",
       "2    78052 NaN NaN  70524\n",
       "3    52680 NaN NaN  49933\n",
       "4    92973 NaN NaN  56887\n",
       "..     ...  ..  ..    ...\n",
       "995  72704 NaN NaN  20997\n",
       "996  78327 NaN NaN  63698\n",
       "997  62435 NaN NaN  56887\n",
       "998  84014 NaN NaN  77208\n",
       "999  51255 NaN NaN  53718\n",
       "\n",
       "[1000 rows x 4 columns]>"
      ]
     },
     "execution_count": 5,
     "metadata": {},
     "output_type": "execute_result"
    }
   ],
   "source": [
    "# get the input (/!\\ : header=None)\n",
    "input = pd.read_csv(\"Input.txt\", sep=\" \", header=None)\n",
    "input.head"
   ]
  },
  {
   "cell_type": "code",
   "execution_count": 6,
   "id": "7f0e0a5e-37d0-4d5b-bfba-472ce90a2db6",
   "metadata": {},
   "outputs": [],
   "source": [
    "# get list_1 and list_2 from the input\n",
    "list_1 = input.iloc[:,0]\n",
    "list_2 = input.iloc[:,3]"
   ]
  },
  {
   "cell_type": "code",
   "execution_count": 7,
   "id": "f6353c2f-e83d-405c-85db-35562115a1d3",
   "metadata": {},
   "outputs": [],
   "source": [
    "# sort list_1 and list_2\n",
    "list_1 = sorted(list_1)\n",
    "list_2 = sorted(list_2)"
   ]
  },
  {
   "cell_type": "code",
   "execution_count": 8,
   "id": "7e87adcc-fc3e-4bc3-9bbc-1e846ed736fe",
   "metadata": {},
   "outputs": [],
   "source": [
    "# substract list_1 from list_2 into a list_3\n",
    "@np.vectorize\n",
    "def substract(x, y):\n",
    "    return x - y\n",
    "    \n",
    "list_3 = substract(list_1, list_2)"
   ]
  },
  {
   "cell_type": "code",
   "execution_count": 9,
   "id": "eb6ecf6e-8dc9-47a0-8f10-495443dc6b5e",
   "metadata": {},
   "outputs": [],
   "source": [
    "# map list_3 to get only absolute values\n",
    "list_3 = abs(list_3)"
   ]
  },
  {
   "cell_type": "code",
   "execution_count": 10,
   "id": "f225e15e-f8b5-4139-9152-7a19133accf5",
   "metadata": {},
   "outputs": [
    {
     "data": {
      "text/plain": [
       "1320851"
      ]
     },
     "execution_count": 10,
     "metadata": {},
     "output_type": "execute_result"
    }
   ],
   "source": [
    "# sum list_3\n",
    "sum(list_3)\n",
    "# CORRECT"
   ]
  },
  {
   "cell_type": "raw",
   "id": "35bed1b8-0c82-4318-9f2f-33b7be5098b6",
   "metadata": {},
   "source": [
    "'''PART 2\n",
    "Define a similarity_score\n",
    "loop through list_1\n",
    "for each number x of list_1 get the  number of occurrences in list_2\n",
    "multiply x by this number of occurrences\n",
    "add it to the similarity_score\n",
    "print similarity_score'''"
   ]
  },
  {
   "cell_type": "code",
   "execution_count": 11,
   "id": "a34f1ec9-ccd3-4f25-a003-8fd00614ef2c",
   "metadata": {},
   "outputs": [],
   "source": [
    "# Define a similarity_score\n",
    "similarity_score = 0"
   ]
  },
  {
   "cell_type": "code",
   "execution_count": 9,
   "id": "51ecc33e-e320-49df-b5a3-f26d367be400",
   "metadata": {},
   "outputs": [],
   "source": [
    "# loop through list_1\n",
    "for x in list_1: \n",
    "    # for each number x of list_1 get the  number of occurrences in list_2\n",
    "    number_of_occurrences = len([occ for occ in list_2 if occ==x])   \n",
    "    # multiply x by this number of occurrences\n",
    "    # add it to the similarity_score\n",
    "    similarity_score += number_of_occurrences * x"
   ]
  },
  {
   "cell_type": "code",
   "execution_count": 10,
   "id": "33cdeb91-105a-4875-961e-1781be3499b9",
   "metadata": {},
   "outputs": [
    {
     "data": {
      "text/plain": [
       "26859182"
      ]
     },
     "execution_count": 10,
     "metadata": {},
     "output_type": "execute_result"
    }
   ],
   "source": [
    "# print similarity_score\n",
    "similarity_score\n",
    "# CORRECT SCORE = 26859182"
   ]
  },
  {
   "cell_type": "code",
   "execution_count": 13,
   "id": "275fa242-5ec3-4902-b576-d67d679463a7",
   "metadata": {},
   "outputs": [],
   "source": [
    "# alternative : \n",
    "# count the number of occurrences in list_2 into a counter_2\n",
    "counter_2 = Counter(list_2)"
   ]
  },
  {
   "cell_type": "code",
   "execution_count": 14,
   "id": "d3ebba75-fc87-4f2a-bd45-85badd931888",
   "metadata": {},
   "outputs": [],
   "source": [
    "# transform list_1 into a set_1\n",
    "set_1 = set(list_1)"
   ]
  },
  {
   "cell_type": "code",
   "execution_count": 56,
   "id": "94a2c895-2e00-4827-91c9-8c4e7f142b89",
   "metadata": {
    "scrolled": true
   },
   "outputs": [],
   "source": [
    "# link keys from set_1 with values from counter_2 into dict_count\n",
    "dict_count = {clé : counter_2[clé] for clé in set_1}"
   ]
  },
  {
   "cell_type": "code",
   "execution_count": 60,
   "id": "16aa2f0d-7682-42cb-a77e-fdeeb870c1a0",
   "metadata": {},
   "outputs": [
    {
     "data": {
      "text/plain": [
       "26859182"
      ]
     },
     "execution_count": 60,
     "metadata": {},
     "output_type": "execute_result"
    }
   ],
   "source": [
    "# get the similarity score by multiplying keys and values in dict_count\n",
    "@np.vectorize\n",
    "def multiplier(key, value):\n",
    "    return key * value\n",
    "\n",
    "sum(list(multiplier(list(dict_count.keys()), list(dict_count.values()))))"
   ]
  }
 ],
 "metadata": {
  "kernelspec": {
   "display_name": "Python 3 (ipykernel)",
   "language": "python",
   "name": "python3"
  },
  "language_info": {
   "codemirror_mode": {
    "name": "ipython",
    "version": 3
   },
   "file_extension": ".py",
   "mimetype": "text/x-python",
   "name": "python",
   "nbconvert_exporter": "python",
   "pygments_lexer": "ipython3",
   "version": "3.9.13"
  }
 },
 "nbformat": 4,
 "nbformat_minor": 5
}
