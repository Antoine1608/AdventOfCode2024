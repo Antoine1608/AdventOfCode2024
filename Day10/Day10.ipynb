{
 "cells": [
  {
   "cell_type": "raw",
   "id": "07a44e2a-21e3-45b3-b6f4-daae5f1c799f",
   "metadata": {},
   "source": [
    "get input and parse to DataFrame\n",
    "for number 0 to 9 get links (the x,y coordinates as a tuple of each occurrence of number)\n",
    "initiate an in_list with the '0' links\n",
    "initiate an empty out_list\n",
    "for number i ranging from 0 to 9 :\n",
    "    for each chain in in_list \n",
    "        for each link in links[i+1]\n",
    "            if x from end of chain and link is the same \n",
    "            and their y have a 1 difference \n",
    "            or \n",
    "            if y from end of chain and link is the same \n",
    "            and their x have a 1 difference \n",
    "            add link to chain as a tuple \n",
    "            and add chain to the out_list\n",
    "            else continue\n",
    "        reinitiate in_list as out_list\n",
    "display length of out_list"
   ]
  },
  {
   "cell_type": "code",
   "execution_count": 1,
   "id": "5755be6f-bb9c-46d0-928d-f632a293a304",
   "metadata": {},
   "outputs": [],
   "source": [
    "import numpy as np\n",
    "import pandas as pd"
   ]
  },
  {
   "cell_type": "code",
   "execution_count": 2,
   "id": "4550cb57-8e87-4bb7-88a4-29d961d2d881",
   "metadata": {},
   "outputs": [
    {
     "data": {
      "text/html": [
       "<div>\n",
       "<style scoped>\n",
       "    .dataframe tbody tr th:only-of-type {\n",
       "        vertical-align: middle;\n",
       "    }\n",
       "\n",
       "    .dataframe tbody tr th {\n",
       "        vertical-align: top;\n",
       "    }\n",
       "\n",
       "    .dataframe thead th {\n",
       "        text-align: right;\n",
       "    }\n",
       "</style>\n",
       "<table border=\"1\" class=\"dataframe\">\n",
       "  <thead>\n",
       "    <tr style=\"text-align: right;\">\n",
       "      <th></th>\n",
       "      <th>0</th>\n",
       "      <th>1</th>\n",
       "      <th>2</th>\n",
       "      <th>3</th>\n",
       "      <th>4</th>\n",
       "      <th>5</th>\n",
       "      <th>6</th>\n",
       "      <th>7</th>\n",
       "    </tr>\n",
       "  </thead>\n",
       "  <tbody>\n",
       "    <tr>\n",
       "      <th>0</th>\n",
       "      <td>8</td>\n",
       "      <td>9</td>\n",
       "      <td>0</td>\n",
       "      <td>1</td>\n",
       "      <td>0</td>\n",
       "      <td>1</td>\n",
       "      <td>2</td>\n",
       "      <td>3</td>\n",
       "    </tr>\n",
       "    <tr>\n",
       "      <th>1</th>\n",
       "      <td>7</td>\n",
       "      <td>8</td>\n",
       "      <td>1</td>\n",
       "      <td>2</td>\n",
       "      <td>1</td>\n",
       "      <td>8</td>\n",
       "      <td>7</td>\n",
       "      <td>4</td>\n",
       "    </tr>\n",
       "    <tr>\n",
       "      <th>2</th>\n",
       "      <td>8</td>\n",
       "      <td>7</td>\n",
       "      <td>4</td>\n",
       "      <td>3</td>\n",
       "      <td>0</td>\n",
       "      <td>9</td>\n",
       "      <td>6</td>\n",
       "      <td>5</td>\n",
       "    </tr>\n",
       "    <tr>\n",
       "      <th>3</th>\n",
       "      <td>9</td>\n",
       "      <td>6</td>\n",
       "      <td>5</td>\n",
       "      <td>4</td>\n",
       "      <td>9</td>\n",
       "      <td>8</td>\n",
       "      <td>7</td>\n",
       "      <td>4</td>\n",
       "    </tr>\n",
       "    <tr>\n",
       "      <th>4</th>\n",
       "      <td>4</td>\n",
       "      <td>5</td>\n",
       "      <td>6</td>\n",
       "      <td>7</td>\n",
       "      <td>8</td>\n",
       "      <td>9</td>\n",
       "      <td>0</td>\n",
       "      <td>3</td>\n",
       "    </tr>\n",
       "    <tr>\n",
       "      <th>5</th>\n",
       "      <td>3</td>\n",
       "      <td>2</td>\n",
       "      <td>0</td>\n",
       "      <td>1</td>\n",
       "      <td>9</td>\n",
       "      <td>0</td>\n",
       "      <td>1</td>\n",
       "      <td>2</td>\n",
       "    </tr>\n",
       "    <tr>\n",
       "      <th>6</th>\n",
       "      <td>0</td>\n",
       "      <td>1</td>\n",
       "      <td>3</td>\n",
       "      <td>2</td>\n",
       "      <td>9</td>\n",
       "      <td>8</td>\n",
       "      <td>0</td>\n",
       "      <td>1</td>\n",
       "    </tr>\n",
       "    <tr>\n",
       "      <th>7</th>\n",
       "      <td>1</td>\n",
       "      <td>0</td>\n",
       "      <td>4</td>\n",
       "      <td>5</td>\n",
       "      <td>6</td>\n",
       "      <td>7</td>\n",
       "      <td>3</td>\n",
       "      <td>2</td>\n",
       "    </tr>\n",
       "  </tbody>\n",
       "</table>\n",
       "</div>"
      ],
      "text/plain": [
       "   0  1  2  3  4  5  6  7\n",
       "0  8  9  0  1  0  1  2  3\n",
       "1  7  8  1  2  1  8  7  4\n",
       "2  8  7  4  3  0  9  6  5\n",
       "3  9  6  5  4  9  8  7  4\n",
       "4  4  5  6  7  8  9  0  3\n",
       "5  3  2  0  1  9  0  1  2\n",
       "6  0  1  3  2  9  8  0  1\n",
       "7  1  0  4  5  6  7  3  2"
      ]
     },
     "execution_count": 2,
     "metadata": {},
     "output_type": "execute_result"
    }
   ],
   "source": [
    "# get input and parse to DataFrame\n",
    "input = open(\"Sample.txt\").read().split('\\n')\n",
    "input = pd.DataFrame([list(x) for x in input])\n",
    "input = input.astype('int')\n",
    "input"
   ]
  },
  {
   "cell_type": "code",
   "execution_count": 3,
   "id": "e5acd418-b378-4f6d-b60c-f0131d8ffe60",
   "metadata": {},
   "outputs": [],
   "source": [
    "# for number 0 to 9 get links (the x,y coordinates as a tuple of each occurrence of number)\n",
    "links = {}\n",
    "for number in range(0,10,1):\n",
    "    links[number] = tuple(zip(*(np.where(input.values==number)[0], np.where(input.values==number)[1])))"
   ]
  },
  {
   "cell_type": "code",
   "execution_count": 4,
   "id": "6f65593e-fae6-4ad0-876f-5917d977b4c1",
   "metadata": {},
   "outputs": [
    {
     "data": {
      "text/plain": [
       "[[(0, 2)],\n",
       " [(0, 4)],\n",
       " [(2, 4)],\n",
       " [(4, 6)],\n",
       " [(5, 2)],\n",
       " [(5, 5)],\n",
       " [(6, 0)],\n",
       " [(6, 6)],\n",
       " [(7, 1)]]"
      ]
     },
     "execution_count": 4,
     "metadata": {},
     "output_type": "execute_result"
    }
   ],
   "source": [
    "# initiate an in_list with the '0' links\n",
    "in_list = [[xy] for xy in links[0]]\n",
    "in_list"
   ]
  },
  {
   "cell_type": "code",
   "execution_count": 5,
   "id": "fee6b4a5-07fc-4deb-a0e4-18c5cf314777",
   "metadata": {},
   "outputs": [],
   "source": [
    "# initiate an empty out_list\n",
    "out_list = []"
   ]
  },
  {
   "cell_type": "code",
   "execution_count": 6,
   "id": "fea4638b-2c1b-43eb-89ae-45a0bdd86dbf",
   "metadata": {},
   "outputs": [
    {
     "data": {
      "text/plain": [
       "21"
      ]
     },
     "execution_count": 6,
     "metadata": {},
     "output_type": "execute_result"
    }
   ],
   "source": [
    "# for number i ranging from 0 to 9 :\n",
    "for i in range(0,9):\n",
    "    # for each chain in in_list :\n",
    "    for chain in in_list:\n",
    "        # for each link in links[i+1]\n",
    "        for link in links[i+1]:\n",
    "            #if x from end of chain and link is the same \n",
    "            #and their y have a 1 difference \n",
    "            #or \n",
    "            #if y from end of chain and link is the same \n",
    "            #and their x have a 1 difference \n",
    "            #add link to chain as a tuple\n",
    "            condition = ((chain[::-1][0][0] == link[0]) and (chain[::-1][0][1] - link[1]) == 1) or ((chain[::-1][0][1] == link[1]) and (chain[::-1][0][0] - link[0]) == 1)\n",
    "            if condition:\n",
    "                chain.append(link)\n",
    "                #and add chain to the out_list\n",
    "                out_list.append(chain)\n",
    "            #else continue\n",
    "            else:\n",
    "                continue\n",
    "          # reinitiate in_list as out_list\n",
    "in_list = out_list\n",
    "# display length of out_list\n",
    "len(out_list)"
   ]
  },
  {
   "cell_type": "code",
   "execution_count": 7,
   "id": "21f6c607-ff6a-4410-b5cd-7a2d644c705d",
   "metadata": {},
   "outputs": [
    {
     "data": {
      "text/plain": [
       "[[(0, 4), (0, 3)],\n",
       " [(2, 4), (1, 4), (1, 3)],\n",
       " [(6, 6), (5, 6)],\n",
       " [(7, 1), (6, 1), (5, 1), (5, 0), (4, 0), (3, 0)],\n",
       " [(2, 4), (1, 4), (1, 3)],\n",
       " [(5, 2), (5, 1), (5, 0), (4, 0), (3, 0)],\n",
       " [(7, 1), (6, 1), (5, 1), (5, 0), (4, 0), (3, 0)],\n",
       " [(5, 2), (5, 1), (5, 0), (4, 0), (3, 0)],\n",
       " [(6, 0), (5, 0), (4, 0), (3, 0)],\n",
       " [(7, 1), (6, 1), (5, 1), (5, 0), (4, 0), (3, 0)],\n",
       " [(5, 2), (5, 1), (5, 0), (4, 0), (3, 0)],\n",
       " [(6, 0), (5, 0), (4, 0), (3, 0)],\n",
       " [(7, 1), (6, 1), (5, 1), (5, 0), (4, 0), (3, 0)],\n",
       " [(4, 6), (3, 6), (3, 5), (2, 5)],\n",
       " [(4, 6), (3, 6), (3, 5), (2, 5)],\n",
       " [(0, 2), (0, 1)],\n",
       " [(4, 6), (3, 6), (3, 5), (2, 5)],\n",
       " [(5, 2), (5, 1), (5, 0), (4, 0), (3, 0)],\n",
       " [(5, 5), (4, 5)],\n",
       " [(6, 0), (5, 0), (4, 0), (3, 0)],\n",
       " [(7, 1), (6, 1), (5, 1), (5, 0), (4, 0), (3, 0)]]"
      ]
     },
     "execution_count": 7,
     "metadata": {},
     "output_type": "execute_result"
    }
   ],
   "source": [
    "out_list"
   ]
  },
  {
   "cell_type": "code",
   "execution_count": null,
   "id": "10f3ef48-9011-4787-94ee-81595efc2c33",
   "metadata": {},
   "outputs": [],
   "source": []
  }
 ],
 "metadata": {
  "kernelspec": {
   "display_name": "Python 3 (ipykernel)",
   "language": "python",
   "name": "python3"
  },
  "language_info": {
   "codemirror_mode": {
    "name": "ipython",
    "version": 3
   },
   "file_extension": ".py",
   "mimetype": "text/x-python",
   "name": "python",
   "nbconvert_exporter": "python",
   "pygments_lexer": "ipython3",
   "version": "3.9.13"
  }
 },
 "nbformat": 4,
 "nbformat_minor": 5
}
